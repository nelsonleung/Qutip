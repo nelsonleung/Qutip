{
 "cells": [
  {
   "cell_type": "code",
   "execution_count": 1,
   "metadata": {
    "collapsed": true
   },
   "outputs": [],
   "source": [
    "%matplotlib inline\n",
    "import matplotlib.pyplot as plt\n",
    "import numpy as np"
   ]
  },
  {
   "cell_type": "code",
   "execution_count": 2,
   "metadata": {
    "collapsed": false
   },
   "outputs": [],
   "source": [
    "from qutip import *"
   ]
  },
  {
   "cell_type": "markdown",
   "metadata": {},
   "source": [
    "### Introduction\n",
    "\n",
    "The Hamiltonian for a Transmon qubit is\n",
    "\n",
    "$\\displaystyle H = \\sum_n 4 E_C (n_g - n)^2 \\left|n\\right\\rangle\\left\\langle n\\right| - E_{J\\Sigma} [\\cos(\\pi \\Phi/\\Phi_0)\\cos(\\theta) + d \\sin(\\pi \\Phi/\\Phi_0)\\sin(\\theta)]$\n",
    "\n",
    "$\\displaystyle H = \\sum_n 4 E_C (n_g - n)^2 \\left|n\\right\\rangle\\left\\langle n\\right| - E_{J\\Sigma}[\\cos(\\pi \\Phi/\\Phi_0)\\frac{1}{2}\\sum_n\\left(\\left|n+1\\right\\rangle\\left\\langle n\\right| + \\left|n\\right\\rangle\\left\\langle n+1\\right| \\right)+i d \\sin(\\pi \\Phi/\\Phi_0)\\frac{1}{2}\\sum_n\\left(\\left|n+1\\right\\rangle\\left\\langle n\\right| - \\left|n\\right\\rangle\\left\\langle n+1\\right| \\right)]$\n",
    "\n",
    "where $E_C$ is the charge energy, $E_J$ is the Josephson energy, and $\\left| n\\right\\rangle$ is the charge state with $n$ Cooper-pairs on the island that makes up the charge qubit."
   ]
  },
  {
   "cell_type": "markdown",
   "metadata": {},
   "source": [
    "### Qubit parameters"
   ]
  },
  {
   "cell_type": "code",
   "execution_count": 3,
   "metadata": {
    "collapsed": false
   },
   "outputs": [],
   "source": [
    "class SystemParameters:\n",
    "    \n",
    "    def __init__(self):\n",
    "        # Input variable\n",
    "        \n",
    "        self.init_system()\n",
    "        self.init_operators()\n",
    "        self.init_pulse_operator()\n",
    "        \n",
    "    def init_system(self):\n",
    "        self.initial_pulse = True\n",
    "        self.state_num = 5\n",
    "        self.alpha = 0.224574\n",
    "        self.freq_ge = 3.9225 #GHz\n",
    "        self.ens = np.array([ 2*np.pi*ii*(self.freq_ge - 0.5*(ii-1)*self.alpha) for ii in np.arange(self.state_num)])\n",
    "        self.pts_per_period = 20\n",
    "        self.dt = (1./self.freq_ge)/self.pts_per_period\n",
    "        self.total_time=200.\n",
    "        self.steps = int(self.total_time/self.dt)+1\n",
    "        self.tlist = np.linspace(0,self.total_time,self.steps)\n",
    "\n",
    "    def init_operators(self):\n",
    "        # Create operator matrix in numpy array\n",
    "        \n",
    "        \n",
    "        self.drive_freq = self.ens[1]\n",
    "        \n",
    "        x   = np.diag(np.sqrt(np.arange(1,self.state_num)),1)+np.diag(np.sqrt(np.arange(1,self.state_num)),-1)\n",
    "        y   = (0+1j) *(np.diag(np.sqrt(np.arange(1,self.state_num)),1)-np.diag(np.sqrt(np.arange(1,self.state_num)),-1))\n",
    "        \n",
    "        self.ops = [x,y]\n",
    "        \n",
    "        self.Hx_op = x\n",
    "        self.Hy_op = y\n",
    "        \n",
    "        self.ops_len = len(self.ops)\n",
    "        \n",
    "        \n",
    "    def gaussian(self,x, mu = 0. , sig = 1. ):\n",
    "        return np.exp(-np.power(x - mu, 2.) / (2 * np.power(sig, 2.)))\n",
    "    \n",
    "    def init_pulse_operator(self, a=0.5):\n",
    "\n",
    "        #functions\n",
    "        def sin(t, a, f):\n",
    "            return a*np.sin(2*np.pi*f*t)\n",
    "\n",
    "        def cos(t, a, f):\n",
    "            return a*np.cos(2*np.pi*f*t)\n",
    "\n",
    "        # gaussian envelop\n",
    "        gaussian_envelop = self.gaussian(np.linspace(-2,2,self.steps))\n",
    "        \n",
    "        # This is to generate a manual pulse\n",
    "        manual_pulse = []\n",
    "\n",
    "        manual_pulse.append(gaussian_envelop * cos(np.linspace(0,self.total_time,self.steps),a,self.freq_ge))\n",
    "        manual_pulse.append(gaussian_envelop * sin(np.linspace(0,self.total_time,self.steps),a,self.freq_ge))\n",
    "        \n",
    "\n",
    "        self.manual_pulse = np.array(manual_pulse)\n",
    "    "
   ]
  },
  {
   "cell_type": "code",
   "execution_count": 4,
   "metadata": {
    "collapsed": false
   },
   "outputs": [],
   "source": [
    "sys_para = SystemParameters()\n",
    "H0 = Qobj(np.diag(sys_para.ens))"
   ]
  },
  {
   "cell_type": "code",
   "execution_count": null,
   "metadata": {
    "collapsed": false
   },
   "outputs": [],
   "source": [
    "class H_Pulse:\n",
    "    def __init__(self):\n",
    "        self.sys_para = SystemParameters()\n",
    "        self.tlist = self.sys_para.tlist\n",
    "        self.pulse_coeff_array = np.zeros(len(self.tlist))\n",
    "        \n",
    "    def gauss_span_length(self,length):\n",
    "        return 6*length\n",
    "\n",
    "    def square_span_length(self,length):\n",
    "        ramp_sigma = 10\n",
    "        return length + 6*ramp_sigma\n",
    "\n",
    "    def gauss(self,tlist,time,amp,freq,length,phase):\n",
    "        span_length = self.gauss_span_length(length)\n",
    "        t0 = time+0.5*span_length\n",
    "        return amp*np.exp(-(tlist-t0)**2/(2*length**2)) * (tlist>time) * (tlist< (time+span_length)) *\\\n",
    "        np.sin(2*np.pi*freq*tlist + phase)\n",
    "\n",
    "    def add_pulse(self,time,amp,freq,length,phase,ptype):\n",
    "        self.pulse_coeff_array += self.gauss(self.tlist,time,amp,freq,length,phase)\n",
    "        return time + self.gauss_span_length(length)\n",
    "        \n",
    "    def get_coeff(self,time):\n",
    "        index = self.time_to_index(time)\n",
    "        return self.pulse_coeff_array[index]\n",
    "    \n",
    "    def time_to_index(self,time):\n",
    "        return int(time/self.sys_para.dt - 1)"
   ]
  },
  {
   "cell_type": "code",
   "execution_count": null,
   "metadata": {
    "collapsed": false
   },
   "outputs": [
    {
     "name": "stdout",
     "output_type": "stream",
     "text": [
      "10.0%. Run time:   3.92s. Est. time left: 00:00:00:35\n",
      "20.0%. Run time:   9.42s. Est. time left: 00:00:00:37\n",
      "30.0%. Run time:  17.09s. Est. time left: 00:00:00:39\n",
      "40.0%. Run time:  25.61s. Est. time left: 00:00:00:38\n",
      "50.0%. Run time:  33.18s. Est. time left: 00:00:00:33\n",
      "60.0%. Run time:  38.34s. Est. time left: 00:00:00:25\n",
      "70.0%. Run time:  39.71s. Est. time left: 00:00:00:17\n",
      "80.0%. Run time:  41.07s. Est. time left: 00:00:00:10\n"
     ]
    }
   ],
   "source": [
    "# Define pulses\n",
    "Hx_pulse = H_Pulse()\n",
    "Hy_pulse = H_Pulse()\n",
    "\n",
    "Hx_pulse.add_pulse(time=0,amp=0.03,freq=sys_para.ens[1]/(2*np.pi),length=20,phase=np.pi/2,ptype=\"gauss\")\n",
    "Hy_pulse.add_pulse(time=0,amp=0.03,freq=sys_para.ens[1]/(2*np.pi),length=20,phase=0,ptype=\"gauss\")\n",
    "\n",
    "fig, axes = plt.subplots(1, 1, figsize=(10,6))\n",
    "\n",
    "plt.plot(Hx_pulse.tlist,Hx_pulse.pulse_coeff_array)\n",
    "plt.plot(Hy_pulse.tlist,Hy_pulse.pulse_coeff_array)\n",
    "\n",
    "axes.set_title('Input Pulse')\n",
    "\n",
    "# Get Hamiltonian pulse value at time t\n",
    "def Hx_coeff(t,args=None):\n",
    "    Hx_t = Hx_pulse.get_coeff(t)\n",
    "    return Hx_t\n",
    "\n",
    "def Hy_coeff(t,args=None):\n",
    "    Hy_t = Hy_pulse.get_coeff(t)\n",
    "    return Hy_t\n",
    "\n",
    "# Hamiltonian\n",
    "Hx = Qobj(sys_para.Hx_op)\n",
    "Hy = Qobj(sys_para.Hy_op)\n",
    "H_t = [H0, [Hx,Hx_coeff], [Hy,Hy_coeff]]\n",
    "\n",
    "# State operators, used for output\n",
    "g_array= np.zeros(sys_para.state_num)\n",
    "g_array[0] = 1\n",
    "g_matrix = Qobj(np.diag(g_array))\n",
    "\n",
    "e_array= np.zeros(sys_para.state_num)\n",
    "e_array[1] = 1\n",
    "e_matrix = Qobj(np.diag(e_array))\n",
    "\n",
    "f_array= np.zeros(sys_para.state_num)\n",
    "f_array[2] = 1\n",
    "f_matrix = Qobj(np.diag(f_array))\n",
    "\n",
    "h_array= np.zeros(sys_para.state_num)\n",
    "h_array[3] = 1\n",
    "h_matrix = Qobj(np.diag(h_array))\n",
    "\n",
    "g = g_matrix\n",
    "e = e_matrix\n",
    "f = f_matrix\n",
    "h = h_matrix\n",
    "\n",
    "# Run Simulation\n",
    "psi0 = g # start in ground cavity and excited transmon\n",
    "\n",
    "output = mesolve(H_t, psi0, sys_para.tlist, [], [g, e, f, h],progress_bar=True)\n",
    "\n",
    "# Plotting\n",
    "g_out = output.expect[0]\n",
    "e_out= output.expect[1]\n",
    "f_out = output.expect[2]\n",
    "h_out = output.expect[3]\n",
    "\n",
    "fig, axes = plt.subplots(1, 1, figsize=(10,6))\n",
    "\n",
    "axes.plot(sys_para.tlist, g_out, label=\"g\")\n",
    "axes.plot(sys_para.tlist, e_out, label=\"e\")\n",
    "axes.plot(sys_para.tlist, f_out, label=\"f\")\n",
    "axes.plot(sys_para.tlist, h_out, label=\"h\")\n",
    "axes.legend(loc=0)\n",
    "axes.set_xlabel('Time')\n",
    "axes.set_ylabel('Occupation probability')\n",
    "axes.set_title('Rabi Oscillation')\n"
   ]
  },
  {
   "cell_type": "code",
   "execution_count": null,
   "metadata": {
    "collapsed": true
   },
   "outputs": [],
   "source": []
  },
  {
   "cell_type": "code",
   "execution_count": null,
   "metadata": {
    "collapsed": true
   },
   "outputs": [],
   "source": []
  }
 ],
 "metadata": {
  "kernelspec": {
   "display_name": "Python 2",
   "language": "python",
   "name": "python2"
  },
  "language_info": {
   "codemirror_mode": {
    "name": "ipython",
    "version": 2
   },
   "file_extension": ".py",
   "mimetype": "text/x-python",
   "name": "python",
   "nbconvert_exporter": "python",
   "pygments_lexer": "ipython2",
   "version": "2.7.6"
  }
 },
 "nbformat": 4,
 "nbformat_minor": 0
}
