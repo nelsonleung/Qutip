{
 "cells": [
  {
   "cell_type": "code",
   "execution_count": 1,
   "metadata": {
    "collapsed": true
   },
   "outputs": [],
   "source": [
    "%matplotlib inline\n",
    "import matplotlib.pyplot as plt\n",
    "import numpy as np\n",
    "from IPython.display import clear_output"
   ]
  },
  {
   "cell_type": "code",
   "execution_count": 2,
   "metadata": {
    "collapsed": false
   },
   "outputs": [],
   "source": [
    "from qutip import *"
   ]
  },
  {
   "cell_type": "markdown",
   "metadata": {},
   "source": [
    "### Introduction\n",
    "\n",
    "The Hamiltonian for a Transmon qubit is\n",
    "\n",
    "$\\displaystyle H = \\sum_n 4 E_C (n_g - n)^2 \\left|n\\right\\rangle\\left\\langle n\\right| - E_{J\\Sigma} [\\cos(\\pi \\Phi/\\Phi_0)\\cos(\\theta) + d \\sin(\\pi \\Phi/\\Phi_0)\\sin(\\theta)]$\n",
    "\n",
    "$\\displaystyle H = \\sum_n 4 E_C (n_g - n)^2 \\left|n\\right\\rangle\\left\\langle n\\right| - E_{J\\Sigma}[\\cos(\\pi \\Phi/\\Phi_0)\\frac{1}{2}\\sum_n\\left(\\left|n+1\\right\\rangle\\left\\langle n\\right| + \\left|n\\right\\rangle\\left\\langle n+1\\right| \\right)+i d \\sin(\\pi \\Phi/\\Phi_0)\\frac{1}{2}\\sum_n\\left(\\left|n+1\\right\\rangle\\left\\langle n\\right| - \\left|n\\right\\rangle\\left\\langle n+1\\right| \\right)]$\n",
    "\n",
    "where $E_C$ is the charge energy, $E_J$ is the Josephson energy, and $\\left| n\\right\\rangle$ is the charge state with $n$ Cooper-pairs on the island that makes up the charge qubit."
   ]
  },
  {
   "cell_type": "markdown",
   "metadata": {},
   "source": [
    "### Qubit parameters"
   ]
  },
  {
   "cell_type": "code",
   "execution_count": 10,
   "metadata": {
    "collapsed": false
   },
   "outputs": [],
   "source": [
    "class SystemParameters:\n",
    "    \n",
    "    def __init__(self):\n",
    "        # Input variable\n",
    "        \n",
    "        self.init_system()\n",
    "        self.init_operators()\n",
    "        self.state_operators()\n",
    "        \n",
    "    def init_system(self):\n",
    "        self.initial_pulse = True\n",
    "        self.qubit_state_num = 3\n",
    "        self.alpha = 0.224574\n",
    "        self.freq_ge = 3.9225 #GHz\n",
    "        self.ens = np.array([ 2*np.pi*ii*(self.freq_ge - 0.5*(ii-1)*self.alpha) for ii in np.arange(self.qubit_state_num)])\n",
    "        \n",
    "        self.qm_g1 = 2*np.pi*0.075 #GHz\n",
    "        self.mode_state_num = 3\n",
    "        self.mode_freq = 6 #GHz\n",
    "        self.mode_ens = np.array([ 2*np.pi*ii*(self.mode_freq) for ii in np.arange(self.mode_state_num)])\n",
    "        \n",
    "        self.state_num = self.qubit_state_num * self.mode_state_num\n",
    "        \n",
    "        self.pts_per_period = 40\n",
    "        self.dt = (1./self.mode_freq)/self.pts_per_period\n",
    "        self.total_time=200.\n",
    "        self.steps = int(self.total_time/self.dt)+1\n",
    "        self.tlist = np.linspace(0,self.total_time,self.steps)\n",
    "        \n",
    "    def update_total_time(self,total_time):\n",
    "        self.total_time=total_time\n",
    "        self.steps = int(self.total_time/self.dt)+1\n",
    "        self.tlist = np.linspace(0,self.total_time,self.steps)\n",
    "        \n",
    "    def update_pts_per_period(self,pts_per_period):\n",
    "        self.pts_per_period=pts_per_period\n",
    "        self.dt = (1./self.mode_freq)/self.pts_per_period\n",
    "        self.steps = int(self.total_time/self.dt)+1\n",
    "        self.tlist = np.linspace(0,self.total_time,self.steps)\n",
    "        \n",
    "    def init_operators(self):\n",
    "        # Create operator matrix in numpy array\n",
    "        H_q = np.diag(self.ens)\n",
    "        H_m = np.diag(self.mode_ens)\n",
    "        \n",
    "        Q_x   = np.diag(np.sqrt(np.arange(1,self.qubit_state_num)),1)+np.diag(np.sqrt(np.arange(1,self.qubit_state_num)),-1)\n",
    "        Q_y   = (0+1j) *(np.diag(np.sqrt(np.arange(1,self.qubit_state_num)),1)-np.diag(np.sqrt(np.arange(1,self.qubit_state_num)),-1))\n",
    "        Q_z   = np.diag(self.ens)/self.ens[1]\n",
    "        \n",
    "        M_x = np.diag(np.sqrt(np.arange(1,self.mode_state_num)),1)+np.diag(np.sqrt(np.arange(1,self.mode_state_num)),-1)\n",
    "        \n",
    "        self.I_q = np.identity(self.qubit_state_num)\n",
    "        self.I_m = np.identity(self.mode_state_num)\n",
    "        \n",
    "        XI = np.kron(Q_x,self.I_m)\n",
    "        YI = np.kron(Q_y,self.I_m)\n",
    "        ZI = np.kron(Q_z,self.I_m)\n",
    "        \n",
    "        self.ops = [XI,YI,ZI]\n",
    "        \n",
    "        self.Hx_op = XI\n",
    "        self.Hy_op = YI\n",
    "        self.Hz_op = ZI\n",
    "        \n",
    "        self.ops_len = len(self.ops)\n",
    "        \n",
    "        self.H0 = np.kron(H_q,self.I_m) + np.kron(self.I_q,H_m) + self.qm_g1*np.kron(Q_x,M_x)\n",
    "       \n",
    "    def state_operators(self):\n",
    "        # State operators, used for output\n",
    "        g_array= np.zeros(self.qubit_state_num)\n",
    "        g_array[0] = 1\n",
    "        g_vector = tensor(Qobj(np.array(g_array)),Qobj(self.I_m))\n",
    "        g_matrix = tensor(Qobj(np.diag(g_array)),Qobj(self.I_m))\n",
    "\n",
    "        e_array= np.zeros(self.qubit_state_num)\n",
    "        e_array[1] = 1\n",
    "        e_vector = tensor(Qobj(np.array(e_array)),Qobj(self.I_m))\n",
    "        e_matrix = tensor(Qobj(np.diag(e_array)),Qobj(self.I_m))\n",
    "\n",
    "        f_array= np.zeros(self.qubit_state_num)\n",
    "        f_array[2] = 1\n",
    "        f_vector = tensor(Qobj(np.array(f_array)),Qobj(self.I_m))\n",
    "        f_matrix = tensor(Qobj(np.diag(f_array)),Qobj(self.I_m))\n",
    "        \n",
    "        m_g_array= np.zeros(self.mode_state_num)\n",
    "        m_g_array[0] = 1\n",
    "        m_g_vector = tensor(Qobj(self.I_q),Qobj(np.array(m_g_array)))\n",
    "        m_g_matrix = tensor(Qobj(self.I_q),Qobj(np.diag(m_g_array)))\n",
    "        \n",
    "        m_e_array= np.zeros(self.mode_state_num)\n",
    "        m_e_array[0] = 1\n",
    "        m_e_vector = tensor(Qobj(self.I_q),Qobj(np.array(m_e_array)))\n",
    "        m_e_matrix = tensor(Qobj(self.I_q),Qobj(np.diag(m_e_array)))\n",
    "        \n",
    "        m_f_array= np.zeros(self.mode_state_num)\n",
    "        m_f_array[0] = 1\n",
    "        m_f_vector = tensor(Qobj(self.I_q),Qobj(np.array(m_f_array)))\n",
    "        m_f_matrix = tensor(Qobj(self.I_q),Qobj(np.diag(m_f_array)))\n",
    "        \n",
    "        H0 = Qobj(self.H0)\n",
    "        \n",
    "        self.g0 = H0.eigenstates()[1][0]*H0.eigenstates()[1][0].dag()\n",
    "        self.e0 = H0.eigenstates()[1][1]*H0.eigenstates()[1][1].dag()\n",
    "        self.g1 = H0.eigenstates()[1][2]*H0.eigenstates()[1][2].dag()\n",
    "\n",
    "        \n",
    "        self.gs = g_vector\n",
    "        self.es = e_vector\n",
    "        self.fs = f_vector\n",
    "        \n",
    "        self.m_gs = m_g_vector\n",
    "        self.m_es = m_e_vector\n",
    "        self.m_fs = m_f_vector\n",
    "\n",
    "        return [self.g0,self.e0,self.g1]\n",
    "    \n",
    "    \n",
    "    def c_operators(self):\n",
    "        # qubit coherence parameters\n",
    "\n",
    "        T1_ge = 18000.0\n",
    "        T1_ef = 7000.0\n",
    "        T2_ge = 2000.0\n",
    "        T2_ef = 2000.0\n",
    "        T_ephi = 1/(1/T2_ge -1/(2*T1_ge))\n",
    "        T_fphi = 1/(1/T2_ef -1/(2*T1_ef))\n",
    "\n",
    "        c_ops = (1/T1_ge)*lindblad_dissipator(self.gs*self.es.dag()) +   (1/T1_ef)*lindblad_dissipator(self.es*self.fs.dag()) +\\\n",
    "        (2/(T_ephi))*lindblad_dissipator(self.es*self.es.dag()) + (2/(T_fphi))*lindblad_dissipator(self.fs*self.fs.dag()) \n",
    "        \n",
    "        return c_ops\n",
    "    \n",
    "    def time_to_index(self,time):\n",
    "        return int(time/self.dt - 1)"
   ]
  },
  {
   "cell_type": "code",
   "execution_count": 11,
   "metadata": {
    "collapsed": false
   },
   "outputs": [],
   "source": [
    "sys_para = SystemParameters()"
   ]
  },
  {
   "cell_type": "code",
   "execution_count": 50,
   "metadata": {
    "collapsed": false
   },
   "outputs": [],
   "source": [
    "class H_Pulse:\n",
    "    def __init__(self, sys_para):\n",
    "        self.sys_para = sys_para\n",
    "        self.tlist = self.sys_para.tlist\n",
    "        self.pulse_coeff_array = np.zeros(len(self.tlist))\n",
    "        \n",
    "    def gauss_span_length(self,length):\n",
    "        return 4*length\n",
    "\n",
    "    def square_span_length(self,length):\n",
    "        ramp_sigma = 10\n",
    "        return length + 4*ramp_sigma\n",
    "\n",
    "    def gauss(self,tlist,time,amp,freq,length,phase):\n",
    "        span_length = self.gauss_span_length(length)\n",
    "        t0 = time+0.5*span_length\n",
    "        return amp*np.exp(-(tlist-t0)**2/(2*length**2)) * (tlist>time) * (tlist< (time+span_length)) *\\\n",
    "        np.sin(2*np.pi*freq*tlist + phase)\n",
    "        \n",
    "    def square(self,tlist,time,amp,freq,length,phase):\n",
    "        ramp_sigma = 10\n",
    "        span_length = self.gauss_span_length(length)\n",
    "        t0 = time+2*ramp_sigma\n",
    "        pulse = amp*np.exp(-(tlist-t0)**2/(2*ramp_sigma**2)) * (tlist>time) * (tlist<= t0) *\\\n",
    "        np.sin(2*np.pi*freq*tlist + phase)\n",
    "        pulse = pulse + amp*(tlist>t0) * (tlist<= (t0+length)) * np.sin(2*np.pi*freq*tlist  +phase)\n",
    "        pulse = pulse + amp*np.exp(-(tlist-(t0+length))**2/(2*ramp_sigma**2)) * (tlist>t0+length) * (tlist<= t0+length+2*ramp_sigma) *\\\n",
    "        np.sin(2*np.pi*freq*tlist +phase)\n",
    "        \n",
    "        return pulse\n",
    "        \n",
    "    def add_pulse(self,time,amp,freq,length,phase,ptype):\n",
    "        if ptype == \"gauss\":\n",
    "            self.pulse_coeff_array += self.gauss(self.tlist,time,amp,freq,length,phase)\n",
    "            return time + self.gauss_span_length(length)\n",
    "        elif ptype == \"square\":\n",
    "            self.pulse_coeff_array += self.square(self.tlist,time,amp,freq,length,phase)\n",
    "            return time + self.square_span_length(length)\n",
    "    \n",
    "    def add_arb_pulse(self,arb_pulse):\n",
    "        c = self.pulse_coeff_array.copy()\n",
    "        c[:len(arb_pulse)] += arb_pulse\n",
    "        self.pulse_coeff_array = c\n",
    "        \n",
    "    def get_coeff(self,time):\n",
    "        index = self.sys_para.time_to_index(time)\n",
    "        return self.pulse_coeff_array[index]\n",
    "    \n",
    "    "
   ]
  },
  {
   "cell_type": "code",
   "execution_count": 35,
   "metadata": {
    "collapsed": true
   },
   "outputs": [],
   "source": [
    "def plot_result(output,sys_para):\n",
    "    # Plotting\n",
    "    g0_out = output.expect[0]\n",
    "    e0_out= output.expect[1]\n",
    "    g1_out = output.expect[2]\n",
    "    \n",
    "\n",
    "    fig, axes = plt.subplots(1, 1, figsize=(10,6))\n",
    "\n",
    "    axes.plot(sys_para.tlist, g0_out, label=\"g0\")\n",
    "    axes.plot(sys_para.tlist, e0_out, label=\"e0\")\n",
    "    axes.plot(sys_para.tlist, g1_out, label=\"g1\")\n",
    "    axes.legend(loc=0)\n",
    "    axes.set_xlabel('Time')\n",
    "    axes.set_ylabel('Occupation probability')"
   ]
  },
  {
   "cell_type": "code",
   "execution_count": 36,
   "metadata": {
    "collapsed": true
   },
   "outputs": [],
   "source": [
    "def plot_sweep_result(p_g,p_e,tlist,sweep):\n",
    "    plt.figure(figsize=(20,8))\n",
    "\n",
    "    plt.subplot(121, title=\"g\")\n",
    "\n",
    "    plt.pcolormesh(tlist,sweep, np.array(p_g))\n",
    "    plt.xlabel('Time')\n",
    "\n",
    "    plt.subplot(122, title=\"e\")\n",
    "\n",
    "    plt.pcolormesh(tlist,sweep, np.array(p_e))\n",
    "    plt.xlabel('Time')"
   ]
  },
  {
   "cell_type": "markdown",
   "metadata": {},
   "source": [
    "### Rabi"
   ]
  },
  {
   "cell_type": "code",
   "execution_count": 37,
   "metadata": {
    "collapsed": false
   },
   "outputs": [],
   "source": [
    "def Rabi(sys_para, sweep = False, amp = 0.0):\n",
    "    # Define pulses\n",
    "    Hx_pulse = H_Pulse(sys_para)\n",
    "    Hy_pulse = H_Pulse(sys_para)\n",
    "\n",
    "    target_time = 24.2\n",
    "    \n",
    "    H0 = Qobj(sys_para.H0)\n",
    "    drive_freq =  H0.eigenstates()[0][1] - H0.eigenstates()[0][0]\n",
    "    \n",
    "    if not sweep:\n",
    "        Hx_pulse.add_pulse(time=0,amp=0.055,freq=drive_freq /(2*np.pi),length=target_time,phase=np.pi/2,ptype=\"gauss\")\n",
    "        Hy_pulse.add_pulse(time=0,amp=0.00,freq=drive_freq /(2*np.pi),length=target_time,phase=0,ptype=\"gauss\")\n",
    "    else:\n",
    "        Hx_pulse.add_pulse(time=0,amp=amp,freq=sys_para.ens[1]/(2*np.pi),length=target_time,phase=np.pi/2,ptype=\"gauss\")\n",
    "        Hy_pulse.add_pulse(time=0,amp=0.00,freq=sys_para.ens[1]/(2*np.pi),length=target_time,phase=0,ptype=\"gauss\")\n",
    "        \n",
    "        \n",
    "    if not sweep:\n",
    "        fig, axes = plt.subplots(1, 1, figsize=(10,6))\n",
    "        plt.plot(sys_para.tlist,Hx_pulse.pulse_coeff_array)\n",
    "        plt.plot(sys_para.tlist,Hy_pulse.pulse_coeff_array)\n",
    "        axes.set_title('Input Pulse')\n",
    "\n",
    "    # Get Hamiltonian pulse value at time t\n",
    "    def Hx_coeff(t,args=None):\n",
    "        Hx_t = Hx_pulse.get_coeff(t)\n",
    "        return Hx_t\n",
    "\n",
    "    def Hy_coeff(t,args=None):\n",
    "        Hy_t = Hy_pulse.get_coeff(t)\n",
    "        return Hy_t\n",
    "\n",
    "    # Hamiltonian\n",
    "    H0 = Qobj(sys_para.H0)\n",
    "    Hx = Qobj(sys_para.Hx_op)\n",
    "    Hy = Qobj(sys_para.Hy_op)\n",
    "    H_t = [H0, [Hx,Hx_coeff], [Hy,Hy_coeff]]\n",
    "    \n",
    "    state_ops = sys_para.state_operators()\n",
    "    c_ops = sys_para.c_operators()\n",
    "\n",
    "    # Run Simulation\n",
    "    psi0 = state_ops[0] # start in ground cavity and excited transmon\n",
    "    output = mesolve(H_t, psi0, sys_para.tlist, c_ops, state_ops ,progress_bar=True)\n",
    "    clear_output()\n",
    "\n",
    "    if not sweep:\n",
    "        plot_result(output,sys_para)\n",
    "    fidelity = output.expect[1][sys_para.steps-1]\n",
    "    print \"Pi-pulse: \" + str(fidelity)\n",
    "    \n",
    "    return (output,fidelity)"
   ]
  },
  {
   "cell_type": "code",
   "execution_count": 38,
   "metadata": {
    "collapsed": false
   },
   "outputs": [
    {
     "name": "stdout",
     "output_type": "stream",
     "text": [
      "Pi-pulse: 0.989715330195\n"
     ]
    },
    {
     "data": {
      "text/plain": [
       "(Result object with mesolve data.\n",
       " --------------------------------\n",
       " expect = True\n",
       " num_expect = 3, num_collapse = 0, 0.9897153301945113)"
      ]
     },
     "execution_count": 38,
     "metadata": {},
     "output_type": "execute_result"
    },
    {
     "data": {
      "image/png": "[encoded data removed]",
      "text/plain": [
       "<matplotlib.figure.Figure at 0x7f1db5369f50>"
      ]
     },
     "metadata": {},
     "output_type": "display_data"
    },
    {
     "data": {
      "image/png": "[encoded data removed]",
      "text/plain": [
       "<matplotlib.figure.Figure at 0x7f1db51e0c90>"
      ]
     },
     "metadata": {},
     "output_type": "display_data"
    }
   ],
   "source": [
    "sys_para = SystemParameters()\n",
    "sys_para.update_total_time(100)\n",
    "Rabi(sys_para)"
   ]
  },
  {
   "cell_type": "markdown",
   "metadata": {
    "collapsed": true
   },
   "source": [
    "### Sideband Rabi"
   ]
  },
  {
   "cell_type": "code",
   "execution_count": 59,
   "metadata": {
    "collapsed": false
   },
   "outputs": [],
   "source": [
    "def Sideband_Rabi(sys_para, sweep = False, amp = 0.0):\n",
    "    # Define pulses\n",
    "    Hx_pulse = H_Pulse(sys_para)\n",
    "    Hy_pulse = H_Pulse(sys_para)\n",
    "    Hz_pulse = H_Pulse(sys_para)\n",
    "\n",
    "    pi_time = 24.2\n",
    "    \n",
    "    H0 = Qobj(sys_para.H0)\n",
    "    drive_freq =  H0.eigenstates()[0][1] - H0.eigenstates()[0][0]\n",
    "    flux_freq = H0.eigenstates()[0][2] - H0.eigenstates()[0][1]\n",
    "    \n",
    "    if not sweep:\n",
    "        Hx_pulse.add_pulse(time=0,amp=0.055,freq=drive_freq/(2*np.pi),length=pi_time,phase=np.pi/2,ptype=\"gauss\")\n",
    "        Hy_pulse.add_pulse(time=0,amp=0.00,freq=drive_freq/(2*np.pi),length=pi_time,phase=0,ptype=\"gauss\")\n",
    "        Hz_pulse.add_pulse(time=100,amp=2*np.pi*0.2,freq=flux_freq/(2*np.pi),length=45,phase=0,ptype=\"square\")\n",
    "    else:\n",
    "        Hx_pulse.add_pulse(time=0,amp=amp,freq=sys_para.ens[1]/(2*np.pi),length=target_time,phase=np.pi/2,ptype=\"gauss\")\n",
    "        Hy_pulse.add_pulse(time=0,amp=0.00,freq=sys_para.ens[1]/(2*np.pi),length=target_time,phase=0,ptype=\"gauss\")\n",
    "        \n",
    "        \n",
    "    if not sweep:\n",
    "        fig, axes = plt.subplots(1, 1, figsize=(10,6))\n",
    "        plt.plot(sys_para.tlist,Hx_pulse.pulse_coeff_array)\n",
    "        plt.plot(sys_para.tlist,Hy_pulse.pulse_coeff_array)\n",
    "        plt.plot(sys_para.tlist,Hz_pulse.pulse_coeff_array)\n",
    "        axes.set_title('Input Pulse')\n",
    "\n",
    "    # Get Hamiltonian pulse value at time t\n",
    "    def Hx_coeff(t,args=None):\n",
    "        Hx_t = Hx_pulse.get_coeff(t)\n",
    "        return Hx_t\n",
    "\n",
    "    def Hy_coeff(t,args=None):\n",
    "        Hy_t = Hy_pulse.get_coeff(t)\n",
    "        return Hy_t\n",
    "    \n",
    "    def Hz_coeff(t,args=None):\n",
    "        Hz_t = Hz_pulse.get_coeff(t)\n",
    "        return Hz_t\n",
    "\n",
    "    # Hamiltonian\n",
    "    H0 = Qobj(sys_para.H0)\n",
    "    Hx = Qobj(sys_para.Hx_op)\n",
    "    Hy = Qobj(sys_para.Hy_op)\n",
    "    Hz = Qobj(sys_para.Hz_op)\n",
    "    H_t = [H0, [Hx,Hx_coeff], [Hy,Hy_coeff],[Hz,Hz_coeff]]\n",
    "    \n",
    "    state_ops = sys_para.state_operators()\n",
    "    c_ops = sys_para.c_operators()\n",
    "\n",
    "    # Run Simulation\n",
    "    psi0 = state_ops[0] # start in ground cavity and excited transmon\n",
    "    output = mesolve(H_t, psi0, sys_para.tlist, c_ops, state_ops ,progress_bar=True)\n",
    "    clear_output()\n",
    "\n",
    "    if not sweep:\n",
    "        plot_result(output,sys_para)\n",
    "    fidelity = output.expect[1][sys_para.steps-1]\n",
    "    \n",
    "    return (output,fidelity)"
   ]
  },
  {
   "cell_type": "code",
   "execution_count": 60,
   "metadata": {
    "collapsed": false
   },
   "outputs": [
    {
     "data": {
      "text/plain": [
       "(Result object with mesolve data.\n",
       " --------------------------------\n",
       " expect = True\n",
       " num_expect = 3, num_collapse = 0, 0.0083626845558290863)"
      ]
     },
     "execution_count": 60,
     "metadata": {},
     "output_type": "execute_result"
    },
    {
     "data": {
      "image/png": "[encoded data removed]",
      "text/plain": [
       "<matplotlib.figure.Figure at 0x7f1db528ea50>"
      ]
     },
     "metadata": {},
     "output_type": "display_data"
    },
    {
     "data": {
      "image/png": "[encoded data removed]",
      "text/plain": [
       "<matplotlib.figure.Figure at 0x7f1db52da390>"
      ]
     },
     "metadata": {},
     "output_type": "display_data"
    }
   ],
   "source": [
    "sys_para = SystemParameters()\n",
    "sys_para.update_total_time(300)\n",
    "Sideband_Rabi(sys_para)"
   ]
  },
  {
   "cell_type": "markdown",
   "metadata": {},
   "source": [
    "### GRAPE pulse simulation"
   ]
  },
  {
   "cell_type": "code",
   "execution_count": null,
   "metadata": {
    "collapsed": false
   },
   "outputs": [],
   "source": [
    "control_pulse = np.load(\"data/drag-control.npy\")\n",
    "plt.plot(control_pulse[0])\n",
    "plt.plot(control_pulse[1])"
   ]
  },
  {
   "cell_type": "code",
   "execution_count": null,
   "metadata": {
    "collapsed": true
   },
   "outputs": [],
   "source": [
    "def GRAPE_pulse(sys_para, sweep = False, amp = 0.0):\n",
    "    # Define pulses\n",
    "    Hx_pulse = H_Pulse(sys_para)\n",
    "    Hy_pulse = H_Pulse(sys_para)\n",
    "\n",
    "    control_pulse = np.load(\"data/drag-control.npy\")\n",
    "    \n",
    "    Hx_pulse.add_arb_pulse(control_pulse[0])\n",
    "    Hy_pulse.add_arb_pulse(control_pulse[1])\n",
    "\n",
    "        \n",
    "    if not sweep:\n",
    "        fig, axes = plt.subplots(1, 1, figsize=(10,6))\n",
    "        plt.plot(sys_para.tlist,Hx_pulse.pulse_coeff_array)\n",
    "        plt.plot(sys_para.tlist,Hy_pulse.pulse_coeff_array)\n",
    "        axes.set_title('Input Pulse')\n",
    "\n",
    "    # Get Hamiltonian pulse value at time t\n",
    "    def Hx_coeff(t,args=None):\n",
    "        Hx_t = Hx_pulse.get_coeff(t)\n",
    "        return Hx_t\n",
    "\n",
    "    def Hy_coeff(t,args=None):\n",
    "        Hy_t = Hy_pulse.get_coeff(t)\n",
    "        return Hy_t\n",
    "\n",
    "    # Hamiltonian\n",
    "    H0 = Qobj(np.diag(sys_para.ens))\n",
    "    Hx = Qobj(sys_para.Hx_op)\n",
    "    Hy = Qobj(sys_para.Hy_op)\n",
    "    H_t = [H0, [Hx,Hx_coeff], [Hy,Hy_coeff]]\n",
    "    \n",
    "    state_ops = sys_para.state_operators()\n",
    "    c_ops = sys_para.c_operators()\n",
    "\n",
    "    # Run Simulation\n",
    "    psi0 = state_ops[0] # start in ground cavity and excited transmon\n",
    "    output = mesolve(H_t, psi0, sys_para.tlist, c_ops, state_ops ,progress_bar=True)\n",
    "    clear_output()\n",
    "\n",
    "    if not sweep:\n",
    "        plot_result(output,sys_para)\n",
    "    fidelity = output.expect[1][sys_para.steps-1]\n",
    "    print \"Pi-pulse: \" + str(fidelity)\n",
    "    \n",
    "    return (output,fidelity)"
   ]
  },
  {
   "cell_type": "code",
   "execution_count": null,
   "metadata": {
    "collapsed": false
   },
   "outputs": [],
   "source": [
    "sys_para = SystemParameters()\n",
    "sys_para.update_total_time(6)\n",
    "sys_para.update_pts_per_period(40)\n",
    "GRAPE_pulse(sys_para)"
   ]
  },
  {
   "cell_type": "code",
   "execution_count": null,
   "metadata": {
    "collapsed": true
   },
   "outputs": [],
   "source": []
  }
 ],
 "metadata": {
  "kernelspec": {
   "display_name": "Python 2",
   "language": "python",
   "name": "python2"
  },
  "language_info": {
   "codemirror_mode": {
    "name": "ipython",
    "version": 2
   },
   "file_extension": ".py",
   "mimetype": "text/x-python",
   "name": "python",
   "nbconvert_exporter": "python",
   "pygments_lexer": "ipython2",
   "version": "2.7.6"
  }
 },
 "nbformat": 4,
 "nbformat_minor": 0
}
