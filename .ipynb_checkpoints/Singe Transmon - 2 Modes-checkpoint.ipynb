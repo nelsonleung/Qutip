{
 "cells": [
  {
   "cell_type": "code",
   "execution_count": 1,
   "metadata": {
    "collapsed": true
   },
   "outputs": [],
   "source": [
    "%matplotlib inline\n",
    "import matplotlib.pyplot as plt\n",
    "import numpy as np\n",
    "from IPython.display import clear_output"
   ]
  },
  {
   "cell_type": "code",
   "execution_count": 2,
   "metadata": {
    "collapsed": true
   },
   "outputs": [],
   "source": [
    "from qutip import *"
   ]
  },
  {
   "cell_type": "code",
   "execution_count": 3,
   "metadata": {
    "collapsed": true
   },
   "outputs": [],
   "source": [
    "class SystemParameters:\n",
    "    \n",
    "    def __init__(self):\n",
    "        # Input variable\n",
    "        \n",
    "        self.init_system()\n",
    "        self.init_operators()\n",
    "        self.state_operators()\n",
    "        \n",
    "    def init_system(self):\n",
    "        self.initial_pulse = True\n",
    "        self.qubit_state_num = 3\n",
    "        self.alpha = 0.224574\n",
    "        self.freq_ge = 3.9225 #GHz\n",
    "        self.ens = np.array([ 2*np.pi*ii*(self.freq_ge - 0.5*(ii-1)*self.alpha) for ii in np.arange(self.qubit_state_num)])\n",
    "        \n",
    "        self.mode_state_num = 3\n",
    "        \n",
    "        self.qm_g1 = 2*np.pi*0.075 #GHz\n",
    "        self.mode1_freq = 6.11 #GHz\n",
    "        self.mode1_ens = np.array([ 2*np.pi*ii*(self.mode1_freq) for ii in np.arange(self.mode_state_num)])\n",
    "        \n",
    "        self.qm_g2 = 2*np.pi*0.075 #GHz\n",
    "        self.mode2_freq = 6.65 #GHz\n",
    "        self.mode2_ens = np.array([ 2*np.pi*ii*(self.mode2_freq) for ii in np.arange(self.mode_state_num)])\n",
    "        \n",
    "        self.state_num = self.qubit_state_num * (self.mode_state_num**2)\n",
    "        \n",
    "        self.pts_per_period = 40\n",
    "        self.dt = (1./self.mode2_freq)/self.pts_per_period\n",
    "        self.total_time=200.\n",
    "        self.steps = int(self.total_time/self.dt)+1\n",
    "        self.tlist = np.linspace(0,self.total_time,self.steps)\n",
    "        \n",
    "    def update_total_time(self,total_time):\n",
    "        self.total_time=total_time\n",
    "        self.steps = int(self.total_time/self.dt)+1\n",
    "        self.tlist = np.linspace(0,self.total_time,self.steps)\n",
    "        \n",
    "    def update_pts_per_period(self,pts_per_period):\n",
    "        self.pts_per_period=pts_per_period\n",
    "        self.dt = (1./self.mode_freq)/self.pts_per_period\n",
    "        self.steps = int(self.total_time/self.dt)+1\n",
    "        self.tlist = np.linspace(0,self.total_time,self.steps)\n",
    "        \n",
    "    def init_operators(self):\n",
    "        # Create operator matrix in numpy array\n",
    "        H_q = np.diag(self.ens)\n",
    "        H_m1 = np.diag(self.mode1_ens)\n",
    "        H_m2 = np.diag(self.mode2_ens)\n",
    "        \n",
    "        Q_x   = np.diag(np.sqrt(np.arange(1,self.qubit_state_num)),1)+np.diag(np.sqrt(np.arange(1,self.qubit_state_num)),-1)\n",
    "        Q_y   = (0+1j) *(np.diag(np.sqrt(np.arange(1,self.qubit_state_num)),1)-np.diag(np.sqrt(np.arange(1,self.qubit_state_num)),-1))\n",
    "        Q_z   = np.diag(np.arange(0,self.qubit_state_num))\n",
    "        \n",
    "        M_x = np.diag(np.sqrt(np.arange(1,self.mode_state_num)),1)+np.diag(np.sqrt(np.arange(1,self.mode_state_num)),-1)\n",
    "        \n",
    "        self.I_q = np.identity(self.qubit_state_num)\n",
    "        self.I_m = np.identity(self.mode_state_num)\n",
    "        \n",
    "        XI = np.kron(Q_x,np.kron(self.I_m,self.I_m))\n",
    "        YI = np.kron(Q_y,np.kron(self.I_m,self.I_m))\n",
    "        ZI = np.kron(Q_z,np.kron(self.I_m,self.I_m))\n",
    "        \n",
    "        self.ops = [XI,YI,ZI]\n",
    "        \n",
    "        self.Hx_op = XI\n",
    "        self.Hy_op = YI\n",
    "        self.Hz_op = ZI\n",
    "        \n",
    "        self.ops_len = len(self.ops)\n",
    "        \n",
    "        self.H0 = np.kron(H_q,np.kron(self.I_m,self.I_m)) + np.kron(self.I_q,np.kron(H_m1,self.I_m)) +\\\n",
    "            np.kron(self.I_q,np.kron(self.I_m,H_m2)) + self.qm_g1*np.kron(Q_x,np.kron(M_x,self.I_m)) +\\\n",
    "            self.qm_g2*np.kron(Q_x,np.kron(self.I_m,M_x))\n",
    "       \n",
    "    def state_operators(self):\n",
    "        # State operators, used for output\n",
    "        g_array= np.zeros(self.qubit_state_num)\n",
    "        g_array[0] = 1\n",
    "        g_vector = tensor(Qobj(np.array(g_array)),Qobj(self.I_m),Qobj(self.I_m))\n",
    "        g_matrix = tensor(Qobj(np.diag(g_array)),Qobj(self.I_m),Qobj(self.I_m))\n",
    "\n",
    "        e_array= np.zeros(self.qubit_state_num)\n",
    "        e_array[1] = 1\n",
    "        e_vector = tensor(Qobj(np.array(e_array)),Qobj(self.I_m),Qobj(self.I_m))\n",
    "        e_matrix = tensor(Qobj(np.diag(e_array)),Qobj(self.I_m),Qobj(self.I_m))\n",
    "\n",
    "        f_array= np.zeros(self.qubit_state_num)\n",
    "        f_array[2] = 1\n",
    "        f_vector = tensor(Qobj(np.array(f_array)),Qobj(self.I_m),Qobj(self.I_m))\n",
    "        f_matrix = tensor(Qobj(np.diag(f_array)),Qobj(self.I_m),Qobj(self.I_m))\n",
    "        \n",
    "        \n",
    "        H0 = Qobj(self.H0)\n",
    "        \n",
    "        self.g00 = H0.eigenstates()[1][0]*H0.eigenstates()[1][0].dag()\n",
    "        self.e00 = H0.eigenstates()[1][1]*H0.eigenstates()[1][1].dag()\n",
    "        self.g10 = H0.eigenstates()[1][2]*H0.eigenstates()[1][2].dag()\n",
    "        self.g01 = H0.eigenstates()[1][3]*H0.eigenstates()[1][3].dag()\n",
    "        self.f00 = H0.eigenstates()[1][4]*H0.eigenstates()[1][4].dag()\n",
    "        self.e10 = H0.eigenstates()[1][5]*H0.eigenstates()[1][5].dag()\n",
    "        self.e01 = H0.eigenstates()[1][6]*H0.eigenstates()[1][6].dag()\n",
    "        self.g11 = H0.eigenstates()[1][8]*H0.eigenstates()[1][8].dag()\n",
    "\n",
    "        \n",
    "        self.gs = g_vector\n",
    "        self.es = e_vector\n",
    "        self.fs = f_vector\n",
    "\n",
    "        return [self.g00,self.e00,self.g10,self.g01,self.f00,self.e10,self.e01,self.g11]\n",
    "    \n",
    "    \n",
    "    def c_operators(self):\n",
    "        # qubit coherence parameters\n",
    "\n",
    "        T1_ge = 18000.0\n",
    "        T1_ef = 7000.0\n",
    "        T2_ge = 12000.0\n",
    "        T2_ef = 12000.0\n",
    "        T_ephi = 1/(1/T2_ge -1/(2*T1_ge))\n",
    "        T_fphi = 1/(1/T2_ef -1/(2*T1_ef))\n",
    "        \n",
    "        # cavity coherence_parameters\n",
    "        T1_cav1 = 4000.0\n",
    "        T1_cav2 = 4000.0\n",
    "        kappa1 = 1/T1_cav1 # cavity dissipation rate\n",
    "        kappa2 = 1/T1_cav2 # cavity dissipation rate\n",
    "        \n",
    "        a1  = tensor(qeye(self.qubit_state_num),destroy(self.mode_state_num),qeye(self.mode_state_num))\n",
    "        a2  = tensor(qeye(self.qubit_state_num),qeye(self.mode_state_num),destroy(self.mode_state_num))\n",
    "\n",
    "        c_ops = (1/T1_ge)*lindblad_dissipator(self.gs*self.es.dag()) +   (1/T1_ef)*lindblad_dissipator(self.es*self.fs.dag()) +\\\n",
    "        (2/(T_ephi))*lindblad_dissipator(self.es*self.es.dag()) + (2/(T_fphi))*lindblad_dissipator(self.fs*self.fs.dag()) +\\\n",
    "        + (1/(T1_cav1))*lindblad_dissipator(a1)+ (1/(T1_cav2))*lindblad_dissipator(a2)\n",
    "        \n",
    "        return c_ops\n",
    "    \n",
    "    def time_to_index(self,time):\n",
    "        return int(time/self.dt - 1)"
   ]
  },
  {
   "cell_type": "code",
   "execution_count": 4,
   "metadata": {
    "collapsed": false
   },
   "outputs": [
    {
     "name": "stdout",
     "output_type": "stream",
     "text": [
      "[ -1.09333835e-03   3.91563935e+00   6.11090738e+00   6.65044011e+00\n",
      "   7.61195747e+00   1.00271505e+01   1.05668412e+01   1.22245836e+01\n",
      "   1.27624404e+01   1.33035656e+01   1.37184640e+01   1.42592779e+01\n",
      "   1.61497520e+01   1.66783416e+01   1.72274496e+01   1.88761038e+01\n",
      "   1.94155887e+01   1.98388814e+01   2.03657972e+01   2.09179817e+01\n",
      "   2.28009216e+01   2.33389468e+01   2.55292597e+01   2.64861502e+01\n",
      "   2.70245446e+01   2.94615449e+01   3.31448963e+01]\n"
     ]
    }
   ],
   "source": [
    "sys_para = SystemParameters()\n",
    "print Qobj(sys_para.H0).eigenstates()[0]/(2*np.pi)"
   ]
  },
  {
   "cell_type": "code",
   "execution_count": 24,
   "metadata": {
    "collapsed": true
   },
   "outputs": [],
   "source": [
    "class H_Pulse:\n",
    "    def __init__(self, sys_para):\n",
    "        self.sys_para = sys_para\n",
    "        self.tlist = self.sys_para.tlist\n",
    "        self.pulse_coeff_array = np.zeros(len(self.tlist))\n",
    "        \n",
    "    def gauss_span_length(self,length):\n",
    "        spacing = 5\n",
    "        return 4*length + spacing\n",
    "\n",
    "    def square_span_length(self,length):\n",
    "        spacing = 5\n",
    "        ramp_sigma = 10\n",
    "        return length + 4*ramp_sigma + spacing\n",
    "\n",
    "    def gauss(self,tlist,time,amp,freq,length,phase):\n",
    "        span_length = self.gauss_span_length(length)\n",
    "        t0 = time+0.5*span_length\n",
    "        return amp*np.exp(-(tlist-t0)**2/(2*length**2)) * (tlist>time) * (tlist< (time+span_length)) *\\\n",
    "        np.sin(2*np.pi*freq*tlist + phase)\n",
    "        \n",
    "    def square(self,tlist,time,amp,freq,length,phase):\n",
    "        ramp_sigma = 10\n",
    "        span_length = self.gauss_span_length(length)\n",
    "        t0 = time+2*ramp_sigma\n",
    "        pulse = amp*np.exp(-(tlist-t0)**2/(2*ramp_sigma**2)) * (tlist>time) * (tlist<= t0) *\\\n",
    "        np.sin(2*np.pi*freq*tlist + phase)\n",
    "        pulse = pulse + amp*(tlist>t0) * (tlist<= (t0+length)) * np.sin(2*np.pi*freq*tlist  +phase)\n",
    "        pulse = pulse + amp*np.exp(-(tlist-(t0+length))**2/(2*ramp_sigma**2)) * (tlist>t0+length) * (tlist<= t0+length+2*ramp_sigma) *\\\n",
    "        np.sin(2*np.pi*freq*tlist +phase)\n",
    "        \n",
    "        return pulse\n",
    "        \n",
    "    def add_pulse(self,time,amp,freq,length,phase,ptype):\n",
    "        if ptype == \"gauss\":\n",
    "            self.pulse_coeff_array += self.gauss(self.tlist,time,amp,freq,length,phase)\n",
    "            return time + self.gauss_span_length(length)\n",
    "        elif ptype == \"square\":\n",
    "            self.pulse_coeff_array += self.square(self.tlist,time,amp,freq,length,phase)\n",
    "            return time + self.square_span_length(length)\n",
    "        \n",
    "    def add_defined_pulse(self,time,pulse):\n",
    "        return self.add_pulse(time,pulse.amp,pulse.freq,pulse.length,pulse.phase,pulse.ptype)\n",
    "    \n",
    "    def add_arb_pulse(self,arb_pulse):\n",
    "        c = self.pulse_coeff_array.copy()\n",
    "        c[:len(arb_pulse)] += arb_pulse\n",
    "        self.pulse_coeff_array = c\n",
    "        \n",
    "    def get_coeff(self,time):\n",
    "        index = self.sys_para.time_to_index(time)\n",
    "        return self.pulse_coeff_array[index]\n",
    "    \n",
    "    "
   ]
  },
  {
   "cell_type": "code",
   "execution_count": 6,
   "metadata": {
    "collapsed": true
   },
   "outputs": [],
   "source": [
    "def plot_result(output,sys_para):\n",
    "    # Plotting\n",
    "    # [self.g00,self.e00,self.g10,self.g01,self.e10,self.e01,self.g11]\n",
    "    g00_out = output.expect[0]\n",
    "    e00_out= output.expect[1]\n",
    "    g10_out = output.expect[2]\n",
    "    g01_out = output.expect[3]\n",
    "    f00_out = output.expect[4]\n",
    "    e10_out = output.expect[5]\n",
    "    e01_out = output.expect[6]\n",
    "    g11_out = output.expect[7]\n",
    "    \n",
    "\n",
    "    fig, axes = plt.subplots(1, 1, figsize=(10,6))\n",
    "\n",
    "    axes.plot(sys_para.tlist, g00_out, label=\"g00\")\n",
    "    axes.plot(sys_para.tlist, e00_out, label=\"e00\")\n",
    "    axes.plot(sys_para.tlist, g10_out, label=\"g10\")\n",
    "    axes.plot(sys_para.tlist, g01_out, label=\"g01\")\n",
    "    axes.plot(sys_para.tlist, f00_out, label=\"f00\")\n",
    "    axes.plot(sys_para.tlist, e10_out, label=\"e10\")\n",
    "    axes.plot(sys_para.tlist, e01_out, label=\"e01\")\n",
    "    axes.plot(sys_para.tlist, g11_out, label=\"g11\")\n",
    "    axes.legend(loc=0)\n",
    "    axes.set_xlabel('Time')\n",
    "    axes.set_ylabel('Occupation probability')"
   ]
  },
  {
   "cell_type": "code",
   "execution_count": 7,
   "metadata": {
    "collapsed": true
   },
   "outputs": [],
   "source": [
    "def plot_sweep_result(p_g,p_e,tlist,sweep):\n",
    "    plt.figure(figsize=(20,8))\n",
    "\n",
    "    plt.subplot(121, title=\"g\")\n",
    "\n",
    "    plt.pcolormesh(tlist,sweep, np.array(p_g))\n",
    "    plt.xlabel('Time')\n",
    "\n",
    "    plt.subplot(122, title=\"e\")\n",
    "\n",
    "    plt.pcolormesh(tlist,sweep, np.array(p_e))\n",
    "    plt.xlabel('Time')"
   ]
  },
  {
   "cell_type": "code",
   "execution_count": 18,
   "metadata": {
    "collapsed": true
   },
   "outputs": [],
   "source": [
    "class Pulse:\n",
    "    def __init__(self,amp,freq,length,phase,ptype):\n",
    "        self.amp = amp\n",
    "        self.freq = freq\n",
    "        self.length = length\n",
    "        self.phase = phase\n",
    "        self.ptype = ptype"
   ]
  },
  {
   "cell_type": "markdown",
   "metadata": {},
   "source": [
    "### Info"
   ]
  },
  {
   "cell_type": "code",
   "execution_count": 32,
   "metadata": {
    "collapsed": true
   },
   "outputs": [],
   "source": [
    "pi_length = 24.2\n",
    "pi_amp = 0.0542\n",
    "ef_pi_length = 9.4\n",
    "ef_pi_amp = 0.099\n",
    "\n",
    "sb1_pi_length = 24.\n",
    "sb1_pi_amp = 2*np.pi*0.307\n",
    "sb1_2pi_length = 90.\n",
    "sb1_2pi_amp = 2*np.pi*0.26\n",
    "sb1_ef_pi_length = 26.5\n",
    "sb1_ef_pi_amp = 2*np.pi*0.227\n",
    "sb1_ef_2pi_length = 75.\n",
    "sb1_ef_2pi_amp = 2*np.pi*0.231\n",
    "\n",
    "sb2_pi_length = 17.\n",
    "sb2_pi_amp = 2*np.pi*0.445\n",
    "sb2_2pi_length = 58.\n",
    "sb2_2pi_amp = 2*np.pi*0.445\n",
    "sb2_ef_pi_length = 75\n",
    "sb2_ef_pi_amp = 2*np.pi*0.14\n",
    "sb2_ef_2pi_length = 177.\n",
    "sb2_ef_2pi_amp = 2*np.pi*0.137"
   ]
  },
  {
   "cell_type": "code",
   "execution_count": 48,
   "metadata": {
    "collapsed": false
   },
   "outputs": [],
   "source": [
    "H0 = Qobj(sys_para.H0)\n",
    "drive_freq =  (H0.eigenstates()[0][1] - H0.eigenstates()[0][0])/(2*np.pi)\n",
    "flux_freq1 = (H0.eigenstates()[0][2] - H0.eigenstates()[0][1])/(2*np.pi)\n",
    "flux_freq2 = (H0.eigenstates()[0][3] - H0.eigenstates()[0][1])/(2*np.pi)\n",
    "ef_flux_freq1 = (H0.eigenstates()[0][5] - H0.eigenstates()[0][4])/(2*np.pi)\n",
    "ef_flux_freq2 = (H0.eigenstates()[0][6] - H0.eigenstates()[0][4])/(2*np.pi)\n",
    "    \n",
    "ge_pi_pulse = Pulse(pi_amp,drive_freq,pi_length,0,\"gauss\")\n",
    "ge_half_pi_pulse = Pulse(pi_amp,drive_freq,pi_length/2,0,\"gauss\")\n",
    "\n",
    "sb1_pi_pulse = Pulse(sb1_pi_amp,flux_freq1,sb1_pi_length,0,\"square\")\n",
    "sb1_2pi_pulse = Pulse(sb1_2pi_amp,flux_freq1,sb1_2pi_length,0,\"square\")\n",
    "sb2_pi_pulse = Pulse(sb2_pi_amp,flux_freq2,sb2_pi_length,0,\"square\")\n",
    "sb2_2pi_pulse = Pulse(sb2_2pi_amp,flux_freq2,sb2_2pi_length,0,\"square\")\n",
    "sb1_ef_pi_pulse = Pulse(sb1_ef_pi_amp,ef_flux_freq1,sb1_ef_pi_length,0,\"square\")\n",
    "sb1_ef_2pi_pulse = Pulse(sb1_ef_2pi_amp,ef_flux_freq1,sb1_ef_2pi_length,0,\"square\")\n",
    "sb2_ef_pi_pulse = Pulse(sb2_ef_pi_amp,ef_flux_freq2,sb2_ef_pi_length,0,\"square\")\n",
    "sb2_ef_2pi_pulse = Pulse(sb2_ef_2pi_amp,ef_flux_freq2,sb2_ef_2pi_length,0,\"square\")\n"
   ]
  },
  {
   "cell_type": "markdown",
   "metadata": {},
   "source": [
    "### Ramsey Test"
   ]
  },
  {
   "cell_type": "code",
   "execution_count": 49,
   "metadata": {
    "collapsed": true
   },
   "outputs": [],
   "source": [
    "def Ramsey_test(sys_para, sweep = False, amp = 0.0):\n",
    "    # Define pulses\n",
    "    Hx_pulse = H_Pulse(sys_para)\n",
    "    Hy_pulse = H_Pulse(sys_para)\n",
    "    Hz_pulse = H_Pulse(sys_para)\n",
    "    \n",
    "    \n",
    "    \n",
    "    if not sweep:\n",
    "        time = Hx_pulse.add_defined_pulse(time=0,pulse=ge_half_pi_pulse)\n",
    "        time = Hx_pulse.add_defined_pulse(time=time,pulse=ge_half_pi_pulse)\n",
    "        \n",
    "        print time\n",
    "    else:\n",
    "        Hz_pulse.add_pulse(time=0,amp=2*np.pi*amp,freq=ef_flux_freq2/(2*np.pi),length=sb2_ef_2pi_length,phase=0,ptype=\"square\")\n",
    "        \n",
    "        \n",
    "    if not sweep:\n",
    "        fig, axes = plt.subplots(1, 1, figsize=(10,6))\n",
    "        plt.plot(sys_para.tlist,Hx_pulse.pulse_coeff_array)\n",
    "        plt.plot(sys_para.tlist,Hy_pulse.pulse_coeff_array)\n",
    "        plt.plot(sys_para.tlist,Hz_pulse.pulse_coeff_array)\n",
    "        axes.set_title('Input Pulse')\n",
    "\n",
    "    # Get Hamiltonian pulse value at time t\n",
    "    def Hx_coeff(t,args=None):\n",
    "        Hx_t = Hx_pulse.get_coeff(t)\n",
    "        return Hx_t\n",
    "\n",
    "    def Hy_coeff(t,args=None):\n",
    "        Hy_t = Hy_pulse.get_coeff(t)\n",
    "        return Hy_t\n",
    "    \n",
    "    def Hz_coeff(t,args=None):\n",
    "        Hz_t = Hz_pulse.get_coeff(t)\n",
    "        return Hz_t\n",
    "\n",
    "    # Hamiltonian\n",
    "    H0 = Qobj(sys_para.H0)\n",
    "    Hx = Qobj(sys_para.Hx_op)\n",
    "    Hy = Qobj(sys_para.Hy_op)\n",
    "    Hz = Qobj(sys_para.Hz_op)\n",
    "    H_t = [H0, [Hx,Hx_coeff], [Hy,Hy_coeff],[Hz,Hz_coeff]]\n",
    "    \n",
    "    state_ops = sys_para.state_operators()\n",
    "    c_ops = sys_para.c_operators()\n",
    "\n",
    "    # Run Simulation\n",
    "    if True:\n",
    "        psi0 = state_ops[0] # start in ground cavity and excited transmon\n",
    "        output = mesolve(H_t, psi0, sys_para.tlist, c_ops, state_ops ,progress_bar=True)\n",
    "        clear_output()\n",
    "\n",
    "        if not sweep:\n",
    "            plot_result(output,sys_para)\n",
    "        fidelity = output.expect[0][sys_para.steps-1]\n",
    "\n",
    "        return (output,fidelity)"
   ]
  },
  {
   "cell_type": "code",
   "execution_count": null,
   "metadata": {
    "collapsed": true
   },
   "outputs": [],
   "source": [
    "sys_para = SystemParameters()\n",
    "sys_para.update_total_time(200)\n",
    "Ramsey_test(sys_para)"
   ]
  },
  {
   "cell_type": "markdown",
   "metadata": {},
   "source": [
    "### CPhase test"
   ]
  },
  {
   "cell_type": "code",
   "execution_count": 46,
   "metadata": {
    "collapsed": true
   },
   "outputs": [],
   "source": [
    "def CPhase_test(sys_para, sweep = False, amp = 0.0):\n",
    "    # Define pulses\n",
    "    Hx_pulse = H_Pulse(sys_para)\n",
    "    Hy_pulse = H_Pulse(sys_para)\n",
    "    Hz_pulse = H_Pulse(sys_para)\n",
    "    \n",
    "    \n",
    "    \n",
    "    if not sweep:\n",
    "        time = Hx_pulse.add_defined_pulse(time=0,pulse=ge_pi_pulse)\n",
    "        time = Hz_pulse.add_defined_pulse(time=time,pulse=sb1_pi_pulse)\n",
    "        time = Hx_pulse.add_defined_pulse(time=time,pulse=ge_pi_pulse)\n",
    "        time = Hz_pulse.add_defined_pulse(time=time,pulse=sb2_pi_pulse)\n",
    "        time = Hz_pulse.add_defined_pulse(time=time,pulse=sb1_pi_pulse)\n",
    "        time = Hz_pulse.add_defined_pulse(time=time,pulse=sb2_ef_2pi_pulse)\n",
    "        time = Hz_pulse.add_defined_pulse(time=time,pulse=sb1_pi_pulse)\n",
    "        time = Hz_pulse.add_defined_pulse(time=time,pulse=sb1_pi_pulse)\n",
    "        time = Hx_pulse.add_defined_pulse(time=0,pulse=ge_pi_pulse)\n",
    "        \n",
    "        print time\n",
    "    else:\n",
    "        Hz_pulse.add_pulse(time=0,amp=2*np.pi*amp,freq=ef_flux_freq2/(2*np.pi),length=sb2_ef_2pi_length,phase=0,ptype=\"square\")\n",
    "        \n",
    "        \n",
    "    if not sweep:\n",
    "        fig, axes = plt.subplots(1, 1, figsize=(10,6))\n",
    "        plt.plot(sys_para.tlist,Hx_pulse.pulse_coeff_array)\n",
    "        plt.plot(sys_para.tlist,Hy_pulse.pulse_coeff_array)\n",
    "        plt.plot(sys_para.tlist,Hz_pulse.pulse_coeff_array)\n",
    "        axes.set_title('Input Pulse')\n",
    "\n",
    "    # Get Hamiltonian pulse value at time t\n",
    "    def Hx_coeff(t,args=None):\n",
    "        Hx_t = Hx_pulse.get_coeff(t)\n",
    "        return Hx_t\n",
    "\n",
    "    def Hy_coeff(t,args=None):\n",
    "        Hy_t = Hy_pulse.get_coeff(t)\n",
    "        return Hy_t\n",
    "    \n",
    "    def Hz_coeff(t,args=None):\n",
    "        Hz_t = Hz_pulse.get_coeff(t)\n",
    "        return Hz_t\n",
    "\n",
    "    # Hamiltonian\n",
    "    H0 = Qobj(sys_para.H0)\n",
    "    Hx = Qobj(sys_para.Hx_op)\n",
    "    Hy = Qobj(sys_para.Hy_op)\n",
    "    Hz = Qobj(sys_para.Hz_op)\n",
    "    H_t = [H0, [Hx,Hx_coeff], [Hy,Hy_coeff],[Hz,Hz_coeff]]\n",
    "    \n",
    "    state_ops = sys_para.state_operators()\n",
    "    c_ops = sys_para.c_operators()\n",
    "\n",
    "    # Run Simulation\n",
    "    if True:\n",
    "        psi0 = state_ops[0] # start in ground cavity and excited transmon\n",
    "        output = mesolve(H_t, psi0, sys_para.tlist, c_ops, state_ops ,progress_bar=True)\n",
    "        clear_output()\n",
    "\n",
    "        if not sweep:\n",
    "            plot_result(output,sys_para)\n",
    "        fidelity = output.expect[0][sys_para.steps-1]\n",
    "\n",
    "        return (output,fidelity)"
   ]
  },
  {
   "cell_type": "code",
   "execution_count": 47,
   "metadata": {
    "collapsed": false
   },
   "outputs": [
    {
     "data": {
      "text/plain": [
       "(Result object with mesolve data.\n",
       " --------------------------------\n",
       " expect = True\n",
       " num_expect = 8, num_collapse = 0, 0.011983620528203452)"
      ]
     },
     "execution_count": 47,
     "metadata": {},
     "output_type": "execute_result"
    },
    {
     "data": {
      "image/png": "[encoded data removed]",
      "text/plain": [
       "<matplotlib.figure.Figure at 0x7fbb24544d90>"
      ]
     },
     "metadata": {},
     "output_type": "display_data"
    },
    {
     "data": {
      "image/png": "[encoded data removed]",
      "text/plain": [
       "<matplotlib.figure.Figure at 0x7fbb21f17a10>"
      ]
     },
     "metadata": {},
     "output_type": "display_data"
    }
   ],
   "source": [
    "sys_para = SystemParameters()\n",
    "sys_para.update_total_time(800)\n",
    "CPhase_test(sys_para)"
   ]
  },
  {
   "cell_type": "code",
   "execution_count": null,
   "metadata": {
    "collapsed": true
   },
   "outputs": [],
   "source": []
  }
 ],
 "metadata": {
  "kernelspec": {
   "display_name": "Python 2",
   "language": "python",
   "name": "python2"
  },
  "language_info": {
   "codemirror_mode": {
    "name": "ipython",
    "version": 2
   },
   "file_extension": ".py",
   "mimetype": "text/x-python",
   "name": "python",
   "nbconvert_exporter": "python",
   "pygments_lexer": "ipython2",
   "version": "2.7.6"
  }
 },
 "nbformat": 4,
 "nbformat_minor": 0
}
