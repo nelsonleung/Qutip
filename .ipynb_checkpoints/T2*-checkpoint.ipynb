{
 "cells": [
  {
   "cell_type": "code",
   "execution_count": null,
   "metadata": {
    "collapsed": false
   },
   "outputs": [],
   "source": [
    "import numpy as np\n",
    "import qutip as qt\n",
    "import matplotlib.pyplot as plt\n",
    "\n",
    "%pylab inline"
   ]
  },
  {
   "cell_type": "code",
   "execution_count": null,
   "metadata": {
    "collapsed": false
   },
   "outputs": [],
   "source": [
    "#Defining time scales\n",
    "gate_time = 10.0\n",
    "gate_steps = 1000\n",
    "\n",
    "#Defining H0\n",
    "qubit_state_num = 2\n",
    "qubit_num = 1\n",
    "freq_ge = 3.9#GHz\n",
    "g = 0.2 #GHz\n",
    "\n",
    "ens = np.array([ 2*np.pi*ii*(freq_ge) for ii in np.arange(qubit_state_num)])\n",
    "Q_x   = np.diag(np.sqrt(np.arange(1,qubit_state_num)),1)+np.diag(np.sqrt(np.arange(1,qubit_state_num)),-1)\n",
    "Q_y   = (0+1j) *(np.diag(np.sqrt(np.arange(1,qubit_state_num)),1)-np.diag(np.sqrt(np.arange(1,qubit_state_num)),-1))\n",
    "Q_z   = np.diag(np.arange(0,qubit_state_num))\n",
    "I_q = np.identity(qubit_state_num)\n",
    "H_q = np.diag(ens)\n",
    "\n",
    "\n",
    "H0 = H_q\n",
    "Hops = [Q_x]\n",
    "\n",
    "initial_vector = np.array([1,0])\n",
    "\n",
    "\n",
    "# initial vector\n",
    "psi0 = qt.Qobj(initial_vector)\n",
    "\n",
    "# H0 and Hops\n",
    "H0_qobj = qt.Qobj(H0)\n",
    "Hops_qobj = []\n",
    "\n",
    "for Hop in Hops:\n",
    "    Hops_qobj.append(qt.Qobj(Hop))\n",
    "        \n",
    "# define time    \n",
    "tlist = np.linspace(0,gate_time,gate_steps+1)\n",
    "dt = gate_time/gate_steps\n",
    "\n",
    "# define uks\n",
    "half_pi_length = 81 * dt\n",
    "pi_length = 160 * dt\n",
    "\n",
    "idle = 7\n",
    "\n",
    "# uks_x = (2.0*np.sin(2*np.pi*freq_ge*tlist))\n",
    "\n",
    "uks_x = (2.0*np.sin(2*np.pi*freq_ge*tlist))*(tlist< half_pi_length)\n",
    "uks_x += (2.0*np.sin(2*np.pi*freq_ge*tlist))*(idle<tlist) * (tlist < (idle+ half_pi_length))\n",
    "\n",
    "\n",
    "\n",
    "\n",
    "\n",
    "averages = 1\n",
    "\n",
    "# looping over each initial vector\n",
    "for avg in range(averages):\n",
    "    \n",
    "    print \"On iteration: %d\" %(avg)\n",
    "    \n",
    "    uks = np.array([uks_x])\n",
    "    \n",
    "    \n",
    "    # make functions to return uks field\n",
    "    def make_get_uks_func(id):\n",
    "        def _function(t,args=None):\n",
    "            time_id = int(t/dt)\n",
    "            return uks[id][time_id]\n",
    "        return _function\n",
    "    \n",
    "    # create the time-dependent Hamiltonian list\n",
    "    Ht_list = []\n",
    "    Ht_list.append(H0_qobj)\n",
    "    for ii in range(len(Hops)):\n",
    "        Ht_list.append([Hops_qobj[ii],make_get_uks_func(ii)])\n",
    "    \n",
    "    # solving the Schrodinger evolution in QuTiP's sesolve\n",
    "    output = qt.sesolve(Ht_list, psi0, tlist, [])\n",
    "    \n",
    "    # obtaining the simulation result\n",
    "    state_tlist = []\n",
    "    for state in output.states:\n",
    "        state_tlist.append(state.full())\n",
    "    state_tlist = np.array(state_tlist)[:,:,0]\n",
    "    state_tlist = np.transpose(state_tlist)\n",
    "    \n",
    "    print state_tlist.shape\n",
    "    \n",
    "    "
   ]
  },
  {
   "cell_type": "code",
   "execution_count": null,
   "metadata": {
    "collapsed": true
   },
   "outputs": [],
   "source": [
    "P_e = np.conjugate(state_tlist[1,:])*state_tlist[1,:]"
   ]
  },
  {
   "cell_type": "code",
   "execution_count": null,
   "metadata": {
    "collapsed": false
   },
   "outputs": [],
   "source": [
    "plt.plot(P_e)"
   ]
  },
  {
   "cell_type": "code",
   "execution_count": null,
   "metadata": {
    "collapsed": false
   },
   "outputs": [],
   "source": [
    "idx = (np.abs(P_e[:200]-1.0)).argmin()\n",
    "\n",
    "print idx"
   ]
  },
  {
   "cell_type": "code",
   "execution_count": null,
   "metadata": {
    "collapsed": true
   },
   "outputs": [],
   "source": []
  }
 ],
 "metadata": {
  "kernelspec": {
   "display_name": "Python 2",
   "language": "python",
   "name": "python2"
  },
  "language_info": {
   "codemirror_mode": {
    "name": "ipython",
    "version": 2
   },
   "file_extension": ".py",
   "mimetype": "text/x-python",
   "name": "python",
   "nbconvert_exporter": "python",
   "pygments_lexer": "ipython2",
   "version": "2.7.6"
  }
 },
 "nbformat": 4,
 "nbformat_minor": 0
}
