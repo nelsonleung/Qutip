{
 "cells": [
  {
   "cell_type": "code",
   "execution_count": 1,
   "metadata": {
    "collapsed": false
   },
   "outputs": [
    {
     "name": "stdout",
     "output_type": "stream",
     "text": [
      "Warning could not import ScriptPlotter\n"
     ]
    }
   ],
   "source": [
    "%matplotlib inline\n",
    "import matplotlib.pyplot as plt\n",
    "import numpy as np\n",
    "from numpy import *\n",
    "from slab import *"
   ]
  },
  {
   "cell_type": "code",
   "execution_count": 2,
   "metadata": {
    "collapsed": false
   },
   "outputs": [
    {
     "ename": "ImportError",
     "evalue": "No module named qutip",
     "output_type": "error",
     "traceback": [
      "\u001b[1;31m---------------------------------------------------------------------------\u001b[0m",
      "\u001b[1;31mImportError\u001b[0m                               Traceback (most recent call last)",
      "\u001b[1;32m<ipython-input-2-674d9281af88>\u001b[0m in \u001b[0;36m<module>\u001b[1;34m()\u001b[0m\n\u001b[1;32m----> 1\u001b[1;33m \u001b[1;32mfrom\u001b[0m \u001b[0mqutip\u001b[0m \u001b[1;32mimport\u001b[0m \u001b[1;33m*\u001b[0m\u001b[1;33m\u001b[0m\u001b[0m\n\u001b[0m",
      "\u001b[1;31mImportError\u001b[0m: No module named qutip"
     ]
    }
   ],
   "source": [
    "from qutip import *"
   ]
  },
  {
   "cell_type": "markdown",
   "metadata": {},
   "source": [
    "### Introduction\n",
    "\n",
    "The Hamiltonian for a Transmon qubit is\n",
    "\n",
    "$\\displaystyle H = \\sum_n 4 E_C (n_g - n)^2 \\left|n\\right\\rangle\\left\\langle n\\right| - E_{J\\Sigma} [\\cos(\\pi \\Phi/\\Phi_0)\\cos(\\theta) + d \\sin(\\pi \\Phi/\\Phi_0)\\sin(\\theta)]$\n",
    "\n",
    "$\\displaystyle H = \\sum_n 4 E_C (n_g - n)^2 \\left|n\\right\\rangle\\left\\langle n\\right| - E_{J\\Sigma}[\\cos(\\pi \\Phi/\\Phi_0)\\frac{1}{2}\\sum_n\\left(\\left|n+1\\right\\rangle\\left\\langle n\\right| + \\left|n\\right\\rangle\\left\\langle n+1\\right| \\right)+i d \\sin(\\pi \\Phi/\\Phi_0)\\frac{1}{2}\\sum_n\\left(\\left|n+1\\right\\rangle\\left\\langle n\\right| - \\left|n\\right\\rangle\\left\\langle n+1\\right| \\right)]$\n",
    "\n",
    "where $E_C$ is the charge energy, $E_J$ is the Josephson energy, and $\\left| n\\right\\rangle$ is the charge state with $n$ Cooper-pairs on the island that makes up the charge qubit."
   ]
  },
  {
   "cell_type": "code",
   "execution_count": null,
   "metadata": {
    "collapsed": true
   },
   "outputs": [],
   "source": [
    "def hamiltonian(Ec, Ej, d, N, flux):\n",
    "    \"\"\"\n",
    "    Return the charge qubit hamiltonian as a Qobj instance.\n",
    "    \"\"\"\n",
    "    m = np.diag(4 * Ec * (arange(-N,N+1))**2) -  Ej * (cos(pi * flux)*0.5 *(np.diag(np.ones(2*N), -1) + \n",
    "                                                               np.diag(np.ones(2*N), 1)) + \n",
    "                                                       1j * d * sin(pi * flux)*0.5 *(np.diag(np.ones(2*N), -1) - \n",
    "                                                               np.diag(np.ones(2*N), 1)))\n",
    "    return Qobj(m)"
   ]
  },
  {
   "cell_type": "code",
   "execution_count": null,
   "metadata": {
    "collapsed": true
   },
   "outputs": [],
   "source": [
    "def plot_energies(ng_vec, energies, ymax=(20, 3)):\n",
    "    \"\"\"\n",
    "    Plot energy levels as a function of bias parameter ng_vec.\n",
    "    \"\"\"\n",
    "    fig, axes = plt.subplots(1,2, figsize=(16,6))\n",
    "\n",
    "    for n in range(len(energies[0,:])):\n",
    "        axes[0].plot(ng_vec, (energies[:,n]-energies[:,0])/(2*pi))\n",
    "    axes[0].set_ylim(-2, ymax[0])\n",
    "    axes[0].set_xlabel(r'$flux$', fontsize=18)\n",
    "    axes[0].set_ylabel(r'$E_n$', fontsize=18)\n",
    "\n",
    "    for n in range(len(energies[0,:])):\n",
    "        axes[1].plot(ng_vec, (energies[:,n]-energies[:,0])/(energies[:,1]-energies[:,0]))\n",
    "    axes[1].set_ylim(-0.1, ymax[1])\n",
    "    axes[1].set_xlabel(r'$flux$', fontsize=18)\n",
    "    axes[1].set_ylabel(r'$(E_n-E_0)/(E_1-E_0)$', fontsize=18)\n",
    "    return fig, axes"
   ]
  },
  {
   "cell_type": "markdown",
   "metadata": {},
   "source": [
    "### Multimode Qubit"
   ]
  },
  {
   "cell_type": "code",
   "execution_count": null,
   "metadata": {
    "collapsed": true
   },
   "outputs": [],
   "source": [
    "N=100\n",
    "Ec=2*pi*0.2 #GHz\n",
    "Ej=2*pi*22 #GHz\n",
    "d=0.2"
   ]
  },
  {
   "cell_type": "code",
   "execution_count": null,
   "metadata": {
    "collapsed": false
   },
   "outputs": [],
   "source": [
    "flux_vec = np.linspace(-2, 2, 201)\n",
    "# print flux_vec[100]\n",
    "energies = array([hamiltonian(Ec, Ej, d, N, flux).eigenstates()[0] for flux in flux_vec])"
   ]
  },
  {
   "cell_type": "code",
   "execution_count": null,
   "metadata": {
    "collapsed": false
   },
   "outputs": [],
   "source": [
    "plot_energies(flux_vec, energies);"
   ]
  },
  {
   "cell_type": "code",
   "execution_count": null,
   "metadata": {
    "collapsed": false
   },
   "outputs": [],
   "source": [
    "print \"Max E_ge: \" + str(max(energies[:,1]-energies[:,0])/(2*pi)) + \" GHz\"\n",
    "print \"Min E_ge: \" + str(min(energies[:,1]-energies[:,0])/(2*pi)) + \" GHz\"\n",
    "print \"Max E_ef: \" + str(max(energies[:,2]-energies[:,1])/(2*pi)) + \" GHz\"\n",
    "print \"Min E_ef: \" + str(min(energies[:,2]-energies[:,1])/(2*pi)) + \" GHz\""
   ]
  },
  {
   "cell_type": "markdown",
   "metadata": {
    "collapsed": true
   },
   "source": [
    "### Jaynes-Cummings\n",
    "\n",
    "$H = \\omega_c a^\\dagger a + \\Sigma \\omega_{qi}\\left|i\\right\\rangle\\left\\langle i\\right| + \\Sigma g_{ij}(a^\\dagger + a)\\left|i\\right\\rangle\\left\\langle j\\right|$\n",
    "\n",
    "$H \\approx \\omega_c a^\\dagger a + \\Sigma \\omega_{qi}\\left|i\\right\\rangle\\left\\langle i\\right| + g(a^\\dagger + a)(b^\\dagger + b)$"
   ]
  },
  {
   "cell_type": "markdown",
   "metadata": {},
   "source": [
    "### Vacuum Rabi"
   ]
  },
  {
   "cell_type": "code",
   "execution_count": null,
   "metadata": {
    "collapsed": false
   },
   "outputs": [],
   "source": [
    "f_c = 2*pi*5.0 #GHz\n",
    "g = 2*pi*0.1 #GHz\n",
    "N_q = 5 #number of qubit modes\n",
    "N_r = 5 #number of resonator modes\n",
    "\n",
    "e_array= zeros(N_q)\n",
    "e_array[1] = 1\n",
    "e_matrix = Qobj(diag(e_array))\n",
    "\n",
    "f_array= zeros(N_q)\n",
    "f_array[2] = 1\n",
    "f_matrix = Qobj(diag(f_array))\n",
    "\n",
    "h_array= zeros(N_q)\n",
    "h_array[3] = 1\n",
    "h_matrix = Qobj(diag(h_array))\n",
    "\n",
    "e = tensor(qeye(N_r),e_matrix)\n",
    "f = tensor(qeye(N_r),f_matrix)\n",
    "h = tensor(qeye(N_r),h_matrix)\n"
   ]
  },
  {
   "cell_type": "code",
   "execution_count": null,
   "metadata": {
    "collapsed": false,
    "scrolled": false
   },
   "outputs": [],
   "source": [
    "vr_energies=[]\n",
    "vr_vectors=[]\n",
    "for n in range(len(flux_vec)):\n",
    "    f_q = Qobj(diag(energies[n,0:N_q]-energies[n,0]))\n",
    "    a = tensor(destroy(N_r),qeye(N_q))\n",
    "    b = tensor(qeye(N_r),destroy(N_q))\n",
    "    H = f_c*a.dag()*a + tensor(qeye(N_r),f_q) + g*(a.dag() + a)*(b.dag()+b)\n",
    "    vr_energies.append(H.eigenstates()[0])\n",
    "    vr_vectors.append(H.eigenstates()[1])\n",
    "vr_energies=array(vr_energies)"
   ]
  },
  {
   "cell_type": "code",
   "execution_count": null,
   "metadata": {
    "collapsed": false
   },
   "outputs": [],
   "source": [
    "plot_energies(flux_vec, vr_energies);"
   ]
  },
  {
   "cell_type": "code",
   "execution_count": null,
   "metadata": {
    "collapsed": false
   },
   "outputs": [],
   "source": [
    "# print energies[100,0:N_q]-energies[100,0]\n",
    "op_pt=70\n",
    "f_q_op = Qobj(diag(energies[op_pt,0:N_q]-energies[op_pt,0]))\n",
    "print \"Operating E_ge: \" + str((energies[op_pt,1]-energies[op_pt,0])/(2*pi)) + \" GHz\"\n",
    "\n",
    "a = tensor(destroy(N_r),qeye(N_q))\n",
    "b = tensor(qeye(N_r),destroy(N_q))\n",
    "\n",
    "H_op = f_c*a.dag()*a + tensor(qeye(N_r),f_q_op) + g*(a.dag() + a)*(b.dag()+b)\n",
    "\n",
    "# print H_op.eigenstates()[1][1]*H_op.eigenstates()[1][1].dag()"
   ]
  },
  {
   "cell_type": "markdown",
   "metadata": {},
   "source": [
    "### Dissipation"
   ]
  },
  {
   "cell_type": "code",
   "execution_count": null,
   "metadata": {
    "collapsed": true
   },
   "outputs": [],
   "source": [
    "c_ops = []\n",
    "\n",
    "T1_r = 1000.0 #ns\n",
    "T1_q = 4000.0 #ns\n",
    "T2_q = 1200.0 #ns\n",
    "\n",
    "# cavity relaxation\n",
    "kappa = 1/T1_r\n",
    "c_ops.append(sqrt(kappa) * a)\n",
    "\n",
    "# qubit relaxation\n",
    "gamma = 1/T1_q\n",
    "c_ops.append(sqrt(gamma) * b)"
   ]
  },
  {
   "cell_type": "markdown",
   "metadata": {},
   "source": [
    "## Master equation solver"
   ]
  },
  {
   "cell_type": "code",
   "execution_count": null,
   "metadata": {
    "collapsed": false
   },
   "outputs": [],
   "source": [
    "tlist = linspace(0.0,4000.0,1001)\n",
    "psi0 = tensor(basis(N_r,0), basis(N_q,1)) # start in ground cavity and excited transmon\n",
    "m2= H_op.eigenstates()[1][1]*H_op.eigenstates()[1][1].dag()\n",
    "m1 = H_op.eigenstates()[1][2]*H_op.eigenstates()[1][2].dag()\n",
    "output = mesolve(H_op, psi0, tlist, c_ops, [m1, m2],options=Odeoptions(nsteps=5000))"
   ]
  },
  {
   "cell_type": "markdown",
   "metadata": {},
   "source": [
    "### Transmon decay"
   ]
  },
  {
   "cell_type": "code",
   "execution_count": null,
   "metadata": {
    "collapsed": false
   },
   "outputs": [],
   "source": [
    "n_c = output.expect[0]\n",
    "n_q = output.expect[1]\n",
    "\n",
    "fig, axes = plt.subplots(1, 1, figsize=(10,6))\n",
    "\n",
    "axes.plot(tlist, n_c, label=\"Cavity\")\n",
    "axes.plot(tlist, n_q, label=\"Qubit excited state\")\n",
    "axes.legend(loc=0)\n",
    "axes.set_xlabel('Time')\n",
    "axes.set_ylabel('Occupation probability')\n",
    "axes.set_title('Decay')"
   ]
  },
  {
   "cell_type": "markdown",
   "metadata": {},
   "source": [
    "### Rabi Oscillation"
   ]
  },
  {
   "cell_type": "markdown",
   "metadata": {},
   "source": [
    "$H_{Rabi} = \\epsilon(t)  a^\\dagger \\exp{(-i\\omega_{d} t)} + \\epsilon^{*}(t)  a \\exp{(i\\omega_{d} t)}$"
   ]
  },
  {
   "cell_type": "code",
   "execution_count": null,
   "metadata": {
    "collapsed": true
   },
   "outputs": [],
   "source": [
    "H_rabi_drive_1 = a.dag()\n",
    "def H_rabi_drive_1_coeff(t,args):\n",
    "    eps = args['epsilon']\n",
    "    freq = args['freq']\n",
    "    ramp = args['ramp']\n",
    "    return eps*exp(-1j*2*pi*freq*t)#*(1-exp((-t/ramp)**2))\n",
    "\n",
    "H_rabi_drive_2 = a\n",
    "def H_rabi_drive_2_coeff(t,args):\n",
    "    eps = args['epsilon']\n",
    "    freq = args['freq']\n",
    "    ramp = args['ramp']\n",
    "    return conjugate(eps)*exp(1j*2*pi*freq*t)#*(1-exp((-t/ramp)**2))"
   ]
  },
  {
   "cell_type": "code",
   "execution_count": null,
   "metadata": {
    "collapsed": false
   },
   "outputs": [],
   "source": [
    "args = {'epsilon': 0.2,'freq':(H_op.eigenenergies()[1]-H_op.eigenenergies()[0])/(2*pi),'ramp':50}\n",
    "psi0 = tensor(basis(N_r,0), basis(N_q,0)) # start in ground cavity and transmon\n",
    "t = linspace(0.0,200.0,201)\n",
    "H_rabi_t = [H_op,[H_rabi_drive_1 ,H_rabi_drive_1_coeff],[H_rabi_drive_2 ,H_rabi_drive_2_coeff]]\n",
    "m2= H_op.eigenstates()[1][1]*H_op.eigenstates()[1][1].dag()\n",
    "m1 = H_op.eigenstates()[1][2]*H_op.eigenstates()[1][2].dag()\n",
    "output = mesolve(H_rabi_t, psi0, t, c_ops, [m1, m2],args=args,options=Odeoptions(nsteps=1000))"
   ]
  },
  {
   "cell_type": "code",
   "execution_count": null,
   "metadata": {
    "collapsed": false
   },
   "outputs": [],
   "source": [
    "n_c_rabi = output.expect[0]\n",
    "n_q_rabi = output.expect[1]\n",
    "\n",
    "fig, axes = plt.subplots(1, 1, figsize=(10,6))\n",
    "\n",
    "axes.plot(t, n_c_rabi, label=\"Cavity\")\n",
    "axes.plot(t, n_q_rabi, label=\"Qubit excited state\")\n",
    "axes.legend(loc=0)\n",
    "axes.set_xlabel('Time')\n",
    "axes.set_ylabel('Occupation probability')\n",
    "axes.set_title('Rabi Oscillation')"
   ]
  },
  {
   "cell_type": "markdown",
   "metadata": {},
   "source": [
    "### Sideband"
   ]
  },
  {
   "cell_type": "code",
   "execution_count": null,
   "metadata": {
    "collapsed": true
   },
   "outputs": [],
   "source": [
    "N=100\n",
    "Ec=2*pi*0.2 #GHz\n",
    "Ej=2*pi*20 #GHz\n",
    "d=0.5"
   ]
  },
  {
   "cell_type": "code",
   "execution_count": null,
   "metadata": {
    "collapsed": true
   },
   "outputs": [],
   "source": [
    "flux_vec_fine = np.linspace(0, 0.5, 10001)\n",
    "energies = array([hamiltonian(Ec, Ej, d, N, flux).eigenenergies() for flux in flux_vec_fine])"
   ]
  },
  {
   "cell_type": "code",
   "execution_count": null,
   "metadata": {
    "collapsed": false
   },
   "outputs": [],
   "source": [
    "plot_energies(flux_vec_fine, energies);"
   ]
  },
  {
   "cell_type": "code",
   "execution_count": null,
   "metadata": {
    "collapsed": false
   },
   "outputs": [],
   "source": [
    "print \"Max E_ge: \" + str(max(energies[:,1]-energies[:,0])/(2*pi)) + \" GHz\"\n",
    "print \"Min E_ge: \" + str(min(energies[:,1]-energies[:,0])/(2*pi)) + \" GHz\"\n",
    "print \"Max E_ef: \" + str(max(energies[:,2]-energies[:,1])/(2*pi)) + \" GHz\"\n",
    "print \"Min E_ef: \" + str(min(energies[:,2]-energies[:,1])/(2*pi)) + \" GHz\""
   ]
  },
  {
   "cell_type": "code",
   "execution_count": null,
   "metadata": {
    "collapsed": true
   },
   "outputs": [],
   "source": [
    "def find_nearest(array,value):\n",
    "    return min(range(len(array)), key=lambda i: abs(array[i]-value))"
   ]
  },
  {
   "cell_type": "code",
   "execution_count": null,
   "metadata": {
    "collapsed": true
   },
   "outputs": [],
   "source": [
    "def find_index(array,value):\n",
    "    step = array[1]-array[0]\n",
    "    index = ((value - array[0])/step).astype(int64)\n",
    "    return index"
   ]
  },
  {
   "cell_type": "code",
   "execution_count": null,
   "metadata": {
    "collapsed": true
   },
   "outputs": [],
   "source": [
    "def get_energy_by_flux(E,f_v,flux,N_q):\n",
    "#     i = find_nearest(f_v,flux)\n",
    "    i = find_index(f_v,flux)\n",
    "    return (E[i,:N_q]-E[i,0])"
   ]
  },
  {
   "cell_type": "code",
   "execution_count": null,
   "metadata": {
    "collapsed": true
   },
   "outputs": [],
   "source": [
    "def get_jc_H_by_flux(E,f_v,flux,N_q,N_r):\n",
    "    f_q =  Qobj(diag(get_energy_by_flux(E,f_v,flux,N_q)))\n",
    "    a = tensor(destroy(N_r),qeye(N_q))\n",
    "    b = tensor(qeye(N_r),destroy(N_q))\n",
    "    H = f_c*a.dag()*a + tensor(qeye(N_r),f_q) + g*(a.dag() + a)*(b.dag()+b)\n",
    "    return H"
   ]
  },
  {
   "cell_type": "code",
   "execution_count": null,
   "metadata": {
    "collapsed": false
   },
   "outputs": [],
   "source": [
    "print get_energy_by_flux(energies,flux_vec_fine,0.2,N_q)/(2*pi)\n",
    "# print get_jc_H_by_flux(energies,flux_vec_fine,0.1,N_q,N_r)/(2*pi)"
   ]
  },
  {
   "cell_type": "markdown",
   "metadata": {},
   "source": [
    "### Master Equation Solver"
   ]
  },
  {
   "cell_type": "markdown",
   "metadata": {},
   "source": [
    "$H_{sb0} = \\omega_c a^\\dagger a + g(a^\\dagger + a)(b^\\dagger + b)$"
   ]
  },
  {
   "cell_type": "markdown",
   "metadata": {},
   "source": [
    "$H_{sb} \\approx \\omega_{Qge}(t)\\left|1\\right\\rangle\\left\\langle 1\\right| +  \\omega_{Qef}(t)\\left|2\\right\\rangle\\left\\langle 2\\right| +  \\omega_{Qfh}(t)\\left|3\\right\\rangle\\left\\langle 3\\right|$"
   ]
  },
  {
   "cell_type": "code",
   "execution_count": null,
   "metadata": {
    "collapsed": true
   },
   "outputs": [],
   "source": [
    "H_SB0 = f_c*a.dag()*a + g*(a.dag() + a)*(b.dag()+b)"
   ]
  },
  {
   "cell_type": "code",
   "execution_count": null,
   "metadata": {
    "collapsed": false
   },
   "outputs": [],
   "source": [
    "def H_SB_e_coeff(t,args):\n",
    "    eps = args['epsilon']\n",
    "    freq = args['freq']\n",
    "    flux_0 = args['flux_0']\n",
    "    \n",
    "    flux = flux_0 + eps * sin(2*pi*freq*t)\n",
    "    E_tSB = get_energy_by_flux(energies,flux_vec_fine,flux,N_q)\n",
    "#     print E_tSB[1]-E_tSB[0]\n",
    "    return E_tSB[1]-E_tSB[0]\n",
    "def H_SB_f_coeff(t,args):\n",
    "    eps = args['epsilon']\n",
    "    freq = args['freq']\n",
    "    flux_0 = args['flux_0']\n",
    "    \n",
    "    flux = flux_0 + eps * sin(2*pi*freq*t)\n",
    "    E_tSB = get_energy_by_flux(energies,flux_vec_fine,flux,N_q)\n",
    "#     print E_tSB[2]-E_tSB[0]\n",
    "    return E_tSB[2]-E_tSB[0]\n",
    "def H_SB_h_coeff(t,args):\n",
    "    eps = args['epsilon']\n",
    "    freq = args['freq']\n",
    "    flux_0 = args['flux_0']\n",
    "    \n",
    "    flux = flux_0 + eps * sin(2*pi*freq*t)\n",
    "    E_tSB = get_energy_by_flux(energies,flux_vec_fine,flux,N_q)\n",
    "#     print E_tSB[3]-E_tSB[0]\n",
    "    return E_tSB[3]-E_tSB[0]"
   ]
  },
  {
   "cell_type": "code",
   "execution_count": null,
   "metadata": {
    "collapsed": false
   },
   "outputs": [],
   "source": [
    "tlist = linspace(0.0,100.0,1001)\n",
    "\n",
    "H_t = [H_SB0, [e,H_SB_e_coeff], [f,H_SB_f_coeff], [h,H_SB_h_coeff]]\n",
    "flux_0 = 0.3\n",
    "E_0 = get_energy_by_flux(energies,flux_vec_fine,flux_0,N_q)\n",
    "f_q = Qobj(diag(E_0[0:N_q]-E_0[0]))\n",
    "# print f_q\n",
    "a = tensor(destroy(N_r),qeye(N_q))\n",
    "b = tensor(qeye(N_r),destroy(N_q))\n",
    "H = f_c*a.dag()*a + tensor(qeye(N_r),f_q) + g*(a.dag() + a)*(b.dag()+b)\n",
    "\n",
    "print \"Eigenenergies:\"\n",
    "print (H.eigenenergies()-H.eigenenergies()[0])/(2*pi)\n",
    "print \"Difference in Eigenenergies:\"\n",
    "print (H.eigenenergies()[1:]-H.eigenenergies()[:-1])/(2*pi)\n"
   ]
  },
  {
   "cell_type": "code",
   "execution_count": null,
   "metadata": {
    "collapsed": false
   },
   "outputs": [],
   "source": [
    "fig, axes = plt.subplots(1, 1, figsize=(10,6))\n",
    "\n",
    "H_SB_e_v=[]\n",
    "H_SB_f_v=[]\n",
    "H_SB_h_v=[]\n",
    "args = {'epsilon': 2*pi*0.002,'freq':(H.eigenenergies()[2]-H.eigenenergies()[1])/(2*pi),'flux_0':flux_0}\n",
    "for ii, t in enumerate(tlist):\n",
    "    H_SB_e_v.append(H_SB_e_coeff(t,args)/(2*pi))\n",
    "    H_SB_f_v.append((H_SB_f_coeff(t,args)-H_SB_e_coeff(t,args))/(2*pi))\n",
    "    H_SB_h_v.append((H_SB_h_coeff(t,args)-H_SB_f_coeff(t,args))/(2*pi))\n",
    "axes.plot(tlist,H_SB_e_v, label=\"GE\")\n",
    "axes.plot(tlist,H_SB_f_v, label=\"EF\")\n",
    "axes.plot(tlist,H_SB_h_v, label=\"FH\")\n",
    "axes.legend(loc=0)\n",
    "axes.set_xlabel('Time')\n",
    "axes.set_ylabel('Qubit Frequency')\n",
    "axes.set_title('Qubit Frequency Modulation')\n",
    "print \"ge frequency: \" + str(H_SB_e_coeff(0,args)/(2*pi)) + \" GHz\"\n",
    "print \"Mean modulated ge frequency: \" + str(mean(H_SB_e_v)) + \" GHz\"\n",
    "print \"DC offset: \" + str((mean(H_SB_e_v)-H_SB_e_coeff(0,args)/(2*pi))*1000.0) + \" MHz\"\n"
   ]
  },
  {
   "cell_type": "markdown",
   "metadata": {},
   "source": [
    "### Starting at |e,0>"
   ]
  },
  {
   "cell_type": "code",
   "execution_count": null,
   "metadata": {
    "collapsed": false
   },
   "outputs": [],
   "source": [
    "tlist = linspace(0.0,1000.0,1001)\n",
    "m1= H.eigenstates()[1][1]*H.eigenstates()[1][1].dag()\n",
    "m2 = H.eigenstates()[1][2]*H.eigenstates()[1][2].dag()\n",
    "psi0 = m1 # start in ground cavity and excited transmon\n",
    "\n",
    "args = {'epsilon': 2*pi*0.001,'freq':(H.eigenenergies()[2]-H.eigenenergies()[1])/(2*pi),'flux_0':flux_0}\n",
    "output = mesolve(H_t, psi0, tlist, c_ops, [m2, m1],args=args,options=Odeoptions(nsteps=1000),progress_bar=True)"
   ]
  },
  {
   "cell_type": "code",
   "execution_count": null,
   "metadata": {
    "collapsed": false
   },
   "outputs": [],
   "source": [
    "n_c_sideband_rabi = output.expect[0]\n",
    "n_q_sideband_rabi = output.expect[1]\n",
    "\n",
    "fig, axes = plt.subplots(1, 1, figsize=(10,6))\n",
    "\n",
    "axes.plot(tlist, n_c_sideband_rabi, label=\"Cavity\")\n",
    "axes.plot(tlist, n_q_sideband_rabi, label=\"Qubit excited state\")\n",
    "axes.legend(loc=0)\n",
    "axes.set_xlabel('Time')\n",
    "axes.set_ylabel('Occupation probability')\n",
    "axes.set_title('Sideband Rabi Oscillation')"
   ]
  },
  {
   "cell_type": "markdown",
   "metadata": {},
   "source": [
    "### Starting at |g,1> state"
   ]
  },
  {
   "cell_type": "code",
   "execution_count": null,
   "metadata": {
    "collapsed": true
   },
   "outputs": [],
   "source": [
    "m1= H.eigenstates()[1][1]*H.eigenstates()[1][1].dag()\n",
    "m2 = H.eigenstates()[1][2]*H.eigenstates()[1][2].dag()\n",
    "psi0 = m2 # start in ground cavity and excited transmon\n",
    "\n",
    "args = {'epsilon': 2*pi*0.002,'freq':(H.eigenenergies()[2]-H.eigenenergies()[1])/(2*pi),'flux_0':flux_0}\n",
    "output = mesolve(H_t, psi0, tlist, c_ops, [m2, m1],args=args,options=Odeoptions(nsteps=1000))"
   ]
  },
  {
   "cell_type": "code",
   "execution_count": null,
   "metadata": {
    "collapsed": false
   },
   "outputs": [],
   "source": [
    "n_c_sideband_rabi = output.expect[0]\n",
    "n_q_sideband_rabi = output.expect[1]\n",
    "\n",
    "fig, axes = plt.subplots(1, 1, figsize=(10,6))\n",
    "\n",
    "axes.plot(tlist, n_c_sideband_rabi, label=\"Cavity\")\n",
    "axes.plot(tlist, n_q_sideband_rabi, label=\"Qubit excited state\")\n",
    "axes.legend(loc=0)\n",
    "axes.set_xlabel('Time')\n",
    "axes.set_ylabel('Occupation probability')\n",
    "axes.set_ylim(0,1)\n",
    "axes.set_title('Sideband Rabi Oscillation')"
   ]
  },
  {
   "cell_type": "markdown",
   "metadata": {},
   "source": [
    "### Starting at |e,1> state"
   ]
  },
  {
   "cell_type": "markdown",
   "metadata": {},
   "source": [
    "#### This is wrong! |e,1> != |e,0> + |g,1>"
   ]
  },
  {
   "cell_type": "code",
   "execution_count": null,
   "metadata": {
    "collapsed": true
   },
   "outputs": [],
   "source": [
    "m1= H.eigenstates()[1][1]*H.eigenstates()[1][1].dag()\n",
    "m2 = H.eigenstates()[1][2]*H.eigenstates()[1][2].dag()\n",
    "psi0 = m1+m2 # start in excited cavity and excited transmon\n",
    "\n",
    "args = {'epsilon': 2*pi*0.002,'freq':(H.eigenenergies()[2]-H.eigenenergies()[1])/(2*pi),'flux_0':flux_0}\n",
    "output = mesolve(H_t, psi0, tlist, c_ops, [m2, m1],args=args,options=Odeoptions(nsteps=1000))"
   ]
  },
  {
   "cell_type": "code",
   "execution_count": null,
   "metadata": {
    "collapsed": false
   },
   "outputs": [],
   "source": [
    "n_c_sideband_rabi = output.expect[0]\n",
    "n_q_sideband_rabi = output.expect[1]\n",
    "\n",
    "fig, axes = plt.subplots(1, 1, figsize=(10,6))\n",
    "\n",
    "axes.plot(tlist, n_c_sideband_rabi, label=\"Cavity\")\n",
    "axes.plot(tlist, n_q_sideband_rabi, label=\"Qubit excited state\")\n",
    "axes.legend(loc=0)\n",
    "axes.set_xlabel('Time')\n",
    "axes.set_ylabel('Occupation probability')\n",
    "axes.set_title('Sideband Rabi Oscillation')"
   ]
  },
  {
   "cell_type": "markdown",
   "metadata": {},
   "source": [
    "### Starting at |e,1> state, without loss"
   ]
  },
  {
   "cell_type": "markdown",
   "metadata": {},
   "source": [
    "#### |e0> + |g1> , sb_21, again, this is wrong!"
   ]
  },
  {
   "cell_type": "code",
   "execution_count": null,
   "metadata": {
    "collapsed": false
   },
   "outputs": [],
   "source": [
    "m1= H.eigenstates()[1][1]*H.eigenstates()[1][1].dag()\n",
    "m2 = H.eigenstates()[1][2]*H.eigenstates()[1][2].dag()\n",
    "psi0 = m1+m2 # start in excited cavity and excited transmon\n",
    "\n",
    "args = {'epsilon': 2*pi*0.002,'freq':(H.eigenenergies()[2]-H.eigenenergies()[1])/(2*pi),'flux_0':flux_0}\n",
    "output = mesolve(H_t, psi0, tlist, [], [m2, m1],args=args,options=Odeoptions(nsteps=1000))"
   ]
  },
  {
   "cell_type": "code",
   "execution_count": null,
   "metadata": {
    "collapsed": false
   },
   "outputs": [],
   "source": [
    "n_c_sideband_rabi = output.expect[0]\n",
    "n_q_sideband_rabi = output.expect[1]\n",
    "\n",
    "fig, axes = plt.subplots(1, 1, figsize=(10,6))\n",
    "\n",
    "axes.plot(tlist, n_c_sideband_rabi, label=\"Cavity\")\n",
    "axes.plot(tlist, n_q_sideband_rabi, label=\"Qubit excited state\")\n",
    "axes.legend(loc=0)\n",
    "axes.set_ylim(0.99,1.01)\n",
    "axes.set_xlabel('Time')\n",
    "axes.set_ylabel('Occupation probability')\n",
    "axes.set_title('Sideband Rabi Oscillation')"
   ]
  },
  {
   "cell_type": "markdown",
   "metadata": {},
   "source": [
    "#### |e1> , sb_21"
   ]
  },
  {
   "cell_type": "code",
   "execution_count": null,
   "metadata": {
    "collapsed": false
   },
   "outputs": [],
   "source": [
    "m4= H.eigenstates()[1][4]*H.eigenstates()[1][4].dag()\n",
    "m5 = H.eigenstates()[1][5]*H.eigenstates()[1][5].dag()\n",
    "psi0 = m4 # start in excited cavity and excited transmon\n",
    "\n",
    "args = {'epsilon': 2*pi*0.002,'freq':(H.eigenenergies()[2]-H.eigenenergies()[1])/(2*pi),'flux_0':flux_0}\n",
    "output = mesolve(H_t, psi0, tlist, [], [m5, m4],args=args,options=Odeoptions(nsteps=1000))"
   ]
  },
  {
   "cell_type": "code",
   "execution_count": null,
   "metadata": {
    "collapsed": false
   },
   "outputs": [],
   "source": [
    "n_c_sideband_rabi = output.expect[0]\n",
    "n_q_sideband_rabi = output.expect[1]\n",
    "\n",
    "fig, axes = plt.subplots(1, 1, figsize=(10,6))\n",
    "\n",
    "axes.plot(tlist, n_c_sideband_rabi, label=\"Cavity\")\n",
    "axes.plot(tlist, n_q_sideband_rabi, label=\"Qubit excited state\")\n",
    "axes.legend(loc=0)\n",
    "axes.set_xlabel('Time')\n",
    "axes.set_ylabel('Occupation probability')\n",
    "axes.set_title('Sideband Rabi Oscillation')"
   ]
  },
  {
   "cell_type": "markdown",
   "metadata": {},
   "source": [
    "#### |e1> , sb_54\n",
    "The transition respond at the difference of eigenenergy!"
   ]
  },
  {
   "cell_type": "code",
   "execution_count": null,
   "metadata": {
    "collapsed": false
   },
   "outputs": [],
   "source": [
    "m4= H.eigenstates()[1][4]*H.eigenstates()[1][4].dag()\n",
    "m5 = H.eigenstates()[1][5]*H.eigenstates()[1][5].dag()\n",
    "psi0 = m4 # start in excited cavity and excited transmon\n",
    "\n",
    "args = {'epsilon': 2*pi*0.002,'freq':(H.eigenenergies()[5]-H.eigenenergies()[4])/(2*pi),'flux_0':flux_0}\n",
    "output = mesolve(H_t, psi0, tlist, [], [m5, m4],args=args,options=Odeoptions(nsteps=1000),progress_bar=True)"
   ]
  },
  {
   "cell_type": "code",
   "execution_count": null,
   "metadata": {
    "collapsed": false
   },
   "outputs": [],
   "source": [
    "n_c_sideband_rabi = output.expect[0]\n",
    "n_q_sideband_rabi = output.expect[1]\n",
    "\n",
    "fig, axes = plt.subplots(1, 1, figsize=(10,6))\n",
    "\n",
    "axes.plot(tlist, n_c_sideband_rabi, label=\"Cavity\")\n",
    "axes.plot(tlist, n_q_sideband_rabi, label=\"Qubit excited state\")\n",
    "axes.legend(loc=0)\n",
    "axes.set_xlabel('Time')\n",
    "axes.set_ylabel('Occupation probability')\n",
    "axes.set_title('Sideband Rabi Oscillation')"
   ]
  },
  {
   "cell_type": "markdown",
   "metadata": {},
   "source": [
    "### Chevron, starting at |e,0>"
   ]
  },
  {
   "cell_type": "code",
   "execution_count": null,
   "metadata": {
    "collapsed": true
   },
   "outputs": [],
   "source": [
    "delta = linspace(-.025*pi,.025*pi,26)\n",
    "n_c = []\n",
    "n_q = []\n",
    "psi0 = m1 # start in ground cavity and excited transmon\n",
    "for d in delta:\n",
    "   args = {'epsilon': 2*pi*0.002,'freq':(H.eigenenergies()[2]-H.eigenenergies()[1]+d)/(2*pi),'flux_0':flux_0}\n",
    "   output = mesolve(H_t, psi0, tlist, [], [m2, m1],args=args,options=Odeoptions(nsteps=1000))\n",
    "   n_c.append(output.expect[0])\n",
    "   n_q.append(output.expect[1])"
   ]
  },
  {
   "cell_type": "code",
   "execution_count": null,
   "metadata": {
    "collapsed": false
   },
   "outputs": [],
   "source": [
    "plt.figure(figsize=(20,8))\n",
    "\n",
    "plt.subplot(121, title=\"Cavity\")\n",
    "\n",
    "plt.pcolormesh(tlist,delta/pi, array(n_c))\n",
    "plt.xlim(tlist[0],tlist[-1])\n",
    "plt.ylim(delta[0]/pi,delta[-1]/pi)\n",
    "plt.xlabel('Time')\n",
    "plt.ylabel('Detuning')\n",
    "\n",
    "plt.subplot(122, title=\"Qubit\")\n",
    "\n",
    "plt.pcolormesh(tlist,delta/pi, array(n_q))\n",
    "plt.xlim(tlist[0],tlist[-1])\n",
    "plt.ylim(delta[0]/pi,delta[-1]/pi)\n",
    "plt.xlabel('Time')\n",
    "plt.ylabel('Detuning')"
   ]
  },
  {
   "cell_type": "code",
   "execution_count": null,
   "metadata": {
    "collapsed": false,
    "scrolled": false
   },
   "outputs": [],
   "source": [
    "delta = linspace(-.05*pi,.05*pi,51)\n",
    "n_c = []\n",
    "n_q = []\n",
    "psi0 = m1 # start in ground cavity and excited transmon\n",
    "for d in delta:\n",
    "   print d\n",
    "   args = {'epsilon': 2*pi*0.001,'freq':(H.eigenenergies()[2]-H.eigenenergies()[1]+d)/(2*pi),'flux_0':flux_0}\n",
    "   output = mesolve(H_t, psi0, tlist, c_ops, [m2, m1],args=args,options=Odeoptions(nsteps=5000))\n",
    "   n_c.append(output.expect[0])\n",
    "   n_q.append(output.expect[1])"
   ]
  },
  {
   "cell_type": "code",
   "execution_count": null,
   "metadata": {
    "collapsed": false
   },
   "outputs": [],
   "source": [
    "plt.figure(figsize=(20,8))\n",
    "\n",
    "plt.subplot(121, title=\"Cavity\")\n",
    "\n",
    "plt.pcolormesh(tlist,delta/pi, array(n_c))\n",
    "plt.xlim(tlist[0],tlist[-1])\n",
    "plt.ylim(delta[0]/pi,delta[-1]/pi)\n",
    "plt.xlabel('Time')\n",
    "plt.ylabel('Detuning')\n",
    "\n",
    "plt.subplot(122, title=\"Qubit\")\n",
    "\n",
    "plt.pcolormesh(tlist,delta/pi, array(n_q))\n",
    "plt.xlim(tlist[0],tlist[-1])\n",
    "plt.ylim(delta[0]/pi,delta[-1]/pi)\n",
    "plt.xlabel('Time')\n",
    "plt.ylabel('Detuning')"
   ]
  },
  {
   "cell_type": "markdown",
   "metadata": {
    "collapsed": true
   },
   "source": [
    "### Driving and Sideband"
   ]
  },
  {
   "cell_type": "markdown",
   "metadata": {},
   "source": [
    "$H_{sb0} = \\omega_c a^\\dagger a + g(a^\\dagger + a)(b^\\dagger + b) $"
   ]
  },
  {
   "cell_type": "markdown",
   "metadata": {},
   "source": [
    "$H_{sb} \\approx \\omega_{Qge}(t)\\left|1\\right\\rangle\\left\\langle 1\\right| +  \\omega_{Qef}(t)\\left|2\\right\\rangle\\left\\langle 2\\right| +  \\omega_{Qfh}(t)\\left|3\\right\\rangle\\left\\langle 3\\right|$"
   ]
  },
  {
   "cell_type": "markdown",
   "metadata": {},
   "source": [
    "$H_{Rabi} = \\epsilon(t)  a^\\dagger \\exp{(-i\\omega_{d} t)} + \\epsilon^{*}(t)  a \\exp{(i\\omega_{d} t)}$"
   ]
  },
  {
   "cell_type": "code",
   "execution_count": null,
   "metadata": {
    "collapsed": true
   },
   "outputs": [],
   "source": [
    "H_rabi_drive_1 = a.dag()\n",
    "def H_rabi_drive_1_coeff_v2(t,args):\n",
    "    eps = args['epsilon']\n",
    "    freq = args['freq']\n",
    "    return eps*exp(-1j*2*pi*freq*t)\n",
    "\n",
    "H_rabi_drive_2 = a\n",
    "def H_rabi_drive_2_coeff_v2(t,args):\n",
    "    eps = args['epsilon']\n",
    "    freq = args['freq']\n",
    "    return conjugate(eps)*exp(1j*2*pi*freq*t)"
   ]
  },
  {
   "cell_type": "code",
   "execution_count": null,
   "metadata": {
    "collapsed": true
   },
   "outputs": [],
   "source": [
    "def H_SB_e_coeff_v2(t,args):\n",
    "    eps = args['sb_epsilon']\n",
    "    freq = args['sb_freq']\n",
    "    flux_0 = args['flux_0']\n",
    "    \n",
    "    flux = flux_0 + eps * sin(2*pi*freq*t)\n",
    "    E_tSB = get_energy_by_flux(energies,flux_vec_fine,flux,N_q)\n",
    "#     print E_tSB[1]-E_tSB[0]\n",
    "    return E_tSB[1]-E_tSB[0]\n",
    "def H_SB_f_coeff_v2(t,args):\n",
    "    eps = args['sb_epsilon']\n",
    "    freq = args['sb_freq']\n",
    "    flux_0 = args['flux_0']\n",
    "    \n",
    "    flux = flux_0 + eps * sin(2*pi*freq*t)\n",
    "    E_tSB = get_energy_by_flux(energies,flux_vec_fine,flux,N_q)\n",
    "#     print E_tSB[2]-E_tSB[0]\n",
    "    return E_tSB[2]-E_tSB[0]\n",
    "def H_SB_h_coeff_v2(t,args):\n",
    "    eps = args['sb_epsilon']\n",
    "    freq = args['sb_freq']\n",
    "    flux_0 = args['flux_0']\n",
    "    \n",
    "    flux = flux_0 + eps * sin(2*pi*freq*t)\n",
    "    E_tSB = get_energy_by_flux(energies,flux_vec_fine,flux,N_q)\n",
    "#     print E_tSB[3]-E_tSB[0]\n",
    "    return E_tSB[3]-E_tSB[0]"
   ]
  },
  {
   "cell_type": "code",
   "execution_count": null,
   "metadata": {
    "collapsed": false
   },
   "outputs": [],
   "source": [
    "tlist = linspace(0.0,500.0,5001)\n",
    "\n",
    "H_t = [H_SB0, [e,H_SB_e_coeff_v2], [f,H_SB_f_coeff_v2], [h,H_SB_h_coeff_v2],[H_rabi_drive_1 ,H_rabi_drive_1_coeff_v2],[H_rabi_drive_2 ,H_rabi_drive_2_coeff_v2]]\n",
    "flux_0 = 0.3\n",
    "E_0 = get_energy_by_flux(energies,flux_vec_fine,flux_0,N_q)\n",
    "f_q = Qobj(diag(E_0[0:N_q]-E_0[0]))\n",
    "# print f_q\n",
    "a = tensor(destroy(N_r),qeye(N_q))\n",
    "b = tensor(qeye(N_r),destroy(N_q))\n",
    "H = f_c*a.dag()*a + tensor(qeye(N_r),f_q) + g*(a.dag() + a)*(b.dag()+b)\n",
    "\n",
    "print \"Eigenenergies:\"\n",
    "print (H.eigenenergies()-H.eigenenergies()[0])/(2*pi)\n",
    "print \"Difference in Eigenenergies:\"\n",
    "print (H.eigenenergies()[1:]-H.eigenenergies()[:-1])/(2*pi)\n"
   ]
  },
  {
   "cell_type": "code",
   "execution_count": null,
   "metadata": {
    "collapsed": false
   },
   "outputs": [],
   "source": [
    "m0= H.eigenstates()[1][0]*H.eigenstates()[1][0].dag()\n",
    "m1= H.eigenstates()[1][1]*H.eigenstates()[1][1].dag()\n",
    "m2 = H.eigenstates()[1][2]*H.eigenstates()[1][2].dag()\n",
    "m3 = H.eigenstates()[1][2]*H.eigenstates()[1][3].dag()\n",
    "m4 = H.eigenstates()[1][2]*H.eigenstates()[1][4].dag()\n",
    "psi0 = m1 # start in ground cavity and excited transmon\n",
    "\n",
    "args = {'epsilon': 0.2,'sb_epsilon': 2*pi*0.002,'freq':(H_op.eigenenergies()[1]-H_op.eigenenergies()[0])/(2*pi),'sb_freq':(H.eigenenergies()[2]-H.eigenenergies()[1])/(2*pi),'flux_0':flux_0}\n",
    "output = mesolve(H_t, psi0, tlist, [], [m0, m1, m2, m3, m4],args=args,options=Odeoptions(nsteps=5000),progress_bar=True)"
   ]
  },
  {
   "cell_type": "code",
   "execution_count": null,
   "metadata": {
    "collapsed": false
   },
   "outputs": [],
   "source": [
    "m0_sideband_rabi = output.expect[0]\n",
    "m1_sideband_rabi = output.expect[1]\n",
    "m2_sideband_rabi = output.expect[2]\n",
    "m3_sideband_rabi = output.expect[3]\n",
    "m4_sideband_rabi = output.expect[4]\n",
    "\n",
    "fig, axes = plt.subplots(1, 1, figsize=(10,6))\n",
    "\n",
    "axes.plot(tlist, m0_sideband_rabi, label=\"m0\")\n",
    "axes.plot(tlist, m1_sideband_rabi, label=\"m1\")\n",
    "axes.plot(tlist, m2_sideband_rabi, label=\"m2\")\n",
    "axes.plot(tlist, m3_sideband_rabi, label=\"m3\")\n",
    "axes.plot(tlist, m4_sideband_rabi, label=\"m4\")\n",
    "axes.legend(loc=0)\n",
    "axes.set_xlabel('Time')\n",
    "axes.set_ylabel('Occupation probability')\n",
    "axes.set_title('Sideband Rabi Oscillation')\n",
    "print \"Pi-Pulse fidelity: \" + str(max(m2_sideband_rabi))"
   ]
  },
  {
   "cell_type": "code",
   "execution_count": null,
   "metadata": {
    "collapsed": true
   },
   "outputs": [],
   "source": []
  }
 ],
 "metadata": {
  "kernelspec": {
   "display_name": "Python 2",
   "language": "python",
   "name": "python2"
  },
  "language_info": {
   "codemirror_mode": {
    "name": "ipython",
    "version": 2
   },
   "file_extension": ".py",
   "mimetype": "text/x-python",
   "name": "python",
   "nbconvert_exporter": "python",
   "pygments_lexer": "ipython2",
   "version": "2.7.11"
  }
 },
 "nbformat": 4,
 "nbformat_minor": 0
}
