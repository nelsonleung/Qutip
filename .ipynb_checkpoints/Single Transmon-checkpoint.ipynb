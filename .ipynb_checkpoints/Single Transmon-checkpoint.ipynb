{
 "cells": [
  {
   "cell_type": "code",
   "execution_count": 1,
   "metadata": {
    "collapsed": true
   },
   "outputs": [],
   "source": [
    "%matplotlib inline\n",
    "import matplotlib.pyplot as plt\n",
    "import numpy as np"
   ]
  },
  {
   "cell_type": "code",
   "execution_count": 2,
   "metadata": {
    "collapsed": false
   },
   "outputs": [],
   "source": [
    "from qutip import *"
   ]
  },
  {
   "cell_type": "markdown",
   "metadata": {},
   "source": [
    "### Introduction\n",
    "\n",
    "The Hamiltonian for a Transmon qubit is\n",
    "\n",
    "$\\displaystyle H = \\sum_n 4 E_C (n_g - n)^2 \\left|n\\right\\rangle\\left\\langle n\\right| - E_{J\\Sigma} [\\cos(\\pi \\Phi/\\Phi_0)\\cos(\\theta) + d \\sin(\\pi \\Phi/\\Phi_0)\\sin(\\theta)]$\n",
    "\n",
    "$\\displaystyle H = \\sum_n 4 E_C (n_g - n)^2 \\left|n\\right\\rangle\\left\\langle n\\right| - E_{J\\Sigma}[\\cos(\\pi \\Phi/\\Phi_0)\\frac{1}{2}\\sum_n\\left(\\left|n+1\\right\\rangle\\left\\langle n\\right| + \\left|n\\right\\rangle\\left\\langle n+1\\right| \\right)+i d \\sin(\\pi \\Phi/\\Phi_0)\\frac{1}{2}\\sum_n\\left(\\left|n+1\\right\\rangle\\left\\langle n\\right| - \\left|n\\right\\rangle\\left\\langle n+1\\right| \\right)]$\n",
    "\n",
    "where $E_C$ is the charge energy, $E_J$ is the Josephson energy, and $\\left| n\\right\\rangle$ is the charge state with $n$ Cooper-pairs on the island that makes up the charge qubit."
   ]
  },
  {
   "cell_type": "markdown",
   "metadata": {},
   "source": [
    "### Qubit parameters"
   ]
  },
  {
   "cell_type": "code",
   "execution_count": 3,
   "metadata": {
    "collapsed": false
   },
   "outputs": [],
   "source": [
    "class SystemParameters:\n",
    "    \n",
    "    def __init__(self):\n",
    "        # Input variable\n",
    "        \n",
    "        self.init_system()\n",
    "        self.init_operators()\n",
    "        self.init_pulse_operator()\n",
    "        \n",
    "    def init_system(self):\n",
    "        self.initial_pulse = True\n",
    "        self.state_num = 5\n",
    "        self.alpha = 0.224574\n",
    "        self.freq_ge = 3.9225 #GHz\n",
    "        self.ens = np.array([ 2*np.pi*ii*(self.freq_ge - 0.5*(ii-1)*self.alpha) for ii in np.arange(self.state_num)])\n",
    "        self.pts_per_period = 20\n",
    "        self.dt = (1./self.freq_ge)/self.pts_per_period\n",
    "        self.total_time=200.\n",
    "        self.steps = int(self.total_time/self.dt)+1\n",
    "        self.tlist = np.linspace(0,self.total_time,self.steps)\n",
    "\n",
    "    def init_operators(self):\n",
    "        # Create operator matrix in numpy array\n",
    "        \n",
    "        \n",
    "        self.drive_freq = self.ens[1]\n",
    "        \n",
    "        x   = np.diag(np.sqrt(np.arange(1,self.state_num)),1)+np.diag(np.sqrt(np.arange(1,self.state_num)),-1)\n",
    "        y   = (0+1j) *(np.diag(np.sqrt(np.arange(1,self.state_num)),1)-np.diag(np.sqrt(np.arange(1,self.state_num)),-1))\n",
    "        \n",
    "        self.ops = [x,y]\n",
    "        \n",
    "        self.Hx_op = x\n",
    "        self.Hy_op = y\n",
    "        \n",
    "        self.ops_len = len(self.ops)\n",
    "        \n",
    "        \n",
    "    def gaussian(self,x, mu = 0. , sig = 1. ):\n",
    "        return np.exp(-np.power(x - mu, 2.) / (2 * np.power(sig, 2.)))\n",
    "    \n",
    "    def init_pulse_operator(self, a=0.5):\n",
    "\n",
    "        #functions\n",
    "        def sin(t, a, f):\n",
    "            return a*np.sin(2*np.pi*f*t)\n",
    "\n",
    "        def cos(t, a, f):\n",
    "            return a*np.cos(2*np.pi*f*t)\n",
    "\n",
    "        # gaussian envelop\n",
    "        gaussian_envelop = self.gaussian(np.linspace(-2,2,self.steps))\n",
    "        \n",
    "        # This is to generate a manual pulse\n",
    "        manual_pulse = []\n",
    "\n",
    "        manual_pulse.append(gaussian_envelop * cos(np.linspace(0,self.total_time,self.steps),a,self.freq_ge))\n",
    "        manual_pulse.append(gaussian_envelop * sin(np.linspace(0,self.total_time,self.steps),a,self.freq_ge))\n",
    "        \n",
    "\n",
    "        self.manual_pulse = np.array(manual_pulse)\n",
    "    "
   ]
  },
  {
   "cell_type": "code",
   "execution_count": 4,
   "metadata": {
    "collapsed": false
   },
   "outputs": [],
   "source": [
    "sys_para = SystemParameters()\n",
    "H0 = Qobj(np.diag(sys_para.ens))"
   ]
  },
  {
   "cell_type": "code",
   "execution_count": 10,
   "metadata": {
    "collapsed": false
   },
   "outputs": [],
   "source": [
    "class H_Pulse:\n",
    "    def __init__(self):\n",
    "        self.sys_para = SystemParameters()\n",
    "        self.tlist = self.sys_para.tlist\n",
    "        self.pulse_coeff_array = np.zeros(len(self.tlist))\n",
    "        \n",
    "    def gauss_span_length(self,length):\n",
    "        return 6*length\n",
    "\n",
    "    def square_span_length(self,length):\n",
    "        ramp_sigma = 10\n",
    "        return length + 6*ramp_sigma\n",
    "\n",
    "    def gauss(self,tlist,time,amp,freq,length,phase):\n",
    "        span_length = self.gauss_span_length(length)\n",
    "        t0 = time+0.5*span_length\n",
    "        return amp*np.exp(-(tlist-t0)**2/(2*length**2)) * (tlist>time) * (tlist< (time+span_length)) *\\\n",
    "        np.sin(2*np.pi*freq*tlist + phase)\n",
    "\n",
    "    def add_pulse(self,time,amp,freq,length,phase,ptype):\n",
    "        self.pulse_coeff_array += self.gauss(self.tlist,time,amp,freq,length,phase)\n",
    "        return time + self.gauss_span_length(length)\n",
    "        \n",
    "    def get_coeff(self,time):\n",
    "        index = self.time_to_index(time)\n",
    "        return self.pulse_coeff_array[index]\n",
    "    \n",
    "    def time_to_index(self,time):\n",
    "        return int(time/self.sys_para.dt - 1)"
   ]
  },
  {
   "cell_type": "code",
   "execution_count": 11,
   "metadata": {
    "collapsed": false
   },
   "outputs": [
    {
     "name": "stdout",
     "output_type": "stream",
     "text": [
      "10.0%. Run time:   3.98s. Est. time left: 00:00:00:35\n",
      "20.0%. Run time:   9.64s. Est. time left: 00:00:00:38\n",
      "30.0%. Run time:  17.50s. Est. time left: 00:00:00:40\n",
      "40.0%. Run time:  26.37s. Est. time left: 00:00:00:39\n",
      "50.0%. Run time:  34.13s. Est. time left: 00:00:00:34\n",
      "60.0%. Run time:  39.32s. Est. time left: 00:00:00:26\n",
      "70.0%. Run time:  40.73s. Est. time left: 00:00:00:17\n",
      "80.0%. Run time:  42.14s. Est. time left: 00:00:00:10\n",
      "90.0%. Run time:  43.55s. Est. time left: 00:00:00:04\n"
     ]
    },
    {
     "ename": "IndexError",
     "evalue": "index 15689 is out of bounds for axis 0 with size 15689",
     "output_type": "error",
     "traceback": [
      "\u001b[1;31m---------------------------------------------------------------------------\u001b[0m",
      "\u001b[1;31mIndexError\u001b[0m                                Traceback (most recent call last)",
      "\u001b[1;32m<ipython-input-11-048df33aee80>\u001b[0m in \u001b[0;36m<module>\u001b[1;34m()\u001b[0m\n\u001b[0;32m     52\u001b[0m \u001b[0mpsi0\u001b[0m \u001b[1;33m=\u001b[0m \u001b[0mg\u001b[0m \u001b[1;31m# start in ground cavity and excited transmon\u001b[0m\u001b[1;33m\u001b[0m\u001b[0m\n\u001b[0;32m     53\u001b[0m \u001b[1;33m\u001b[0m\u001b[0m\n\u001b[1;32m---> 54\u001b[1;33m \u001b[0moutput\u001b[0m \u001b[1;33m=\u001b[0m \u001b[0mmesolve\u001b[0m\u001b[1;33m(\u001b[0m\u001b[0mH_t\u001b[0m\u001b[1;33m,\u001b[0m \u001b[0mpsi0\u001b[0m\u001b[1;33m,\u001b[0m \u001b[0msys_para\u001b[0m\u001b[1;33m.\u001b[0m\u001b[0mtlist\u001b[0m\u001b[1;33m,\u001b[0m \u001b[1;33m[\u001b[0m\u001b[1;33m]\u001b[0m\u001b[1;33m,\u001b[0m \u001b[1;33m[\u001b[0m\u001b[0mg\u001b[0m\u001b[1;33m,\u001b[0m \u001b[0me\u001b[0m\u001b[1;33m,\u001b[0m \u001b[0mf\u001b[0m\u001b[1;33m,\u001b[0m \u001b[0mh\u001b[0m\u001b[1;33m]\u001b[0m\u001b[1;33m,\u001b[0m\u001b[0mprogress_bar\u001b[0m\u001b[1;33m=\u001b[0m\u001b[0mTrue\u001b[0m\u001b[1;33m)\u001b[0m\u001b[1;33m\u001b[0m\u001b[0m\n\u001b[0m\u001b[0;32m     55\u001b[0m \u001b[1;33m\u001b[0m\u001b[0m\n\u001b[0;32m     56\u001b[0m \u001b[1;31m# Plotting\u001b[0m\u001b[1;33m\u001b[0m\u001b[1;33m\u001b[0m\u001b[0m\n",
      "\u001b[1;32m/usr/lib/python2.7/dist-packages/qutip/mesolve.pyc\u001b[0m in \u001b[0;36mmesolve\u001b[1;34m(H, rho0, tlist, c_ops, e_ops, args, options, progress_bar)\u001b[0m\n\u001b[0;32m    296\u001b[0m                 res = _mesolve_list_func_td(H, rho0, tlist, c_ops,\n\u001b[0;32m    297\u001b[0m                                             \u001b[0me_ops\u001b[0m\u001b[1;33m,\u001b[0m \u001b[0margs\u001b[0m\u001b[1;33m,\u001b[0m \u001b[0moptions\u001b[0m\u001b[1;33m,\u001b[0m\u001b[1;33m\u001b[0m\u001b[0m\n\u001b[1;32m--> 298\u001b[1;33m                                             progress_bar)\n\u001b[0m\u001b[0;32m    299\u001b[0m             \u001b[1;32melse\u001b[0m\u001b[1;33m:\u001b[0m\u001b[1;33m\u001b[0m\u001b[0m\n\u001b[0;32m    300\u001b[0m                 res = _mesolve_list_str_td(H, rho0, tlist, c_ops,\n",
      "\u001b[1;32m/usr/lib/python2.7/dist-packages/qutip/mesolve.pyc\u001b[0m in \u001b[0;36m_mesolve_list_func_td\u001b[1;34m(H_list, rho0, tlist, c_list, e_ops, args, opt, progress_bar)\u001b[0m\n\u001b[0;32m    430\u001b[0m     \u001b[1;31m# call generic ODE code\u001b[0m\u001b[1;33m\u001b[0m\u001b[1;33m\u001b[0m\u001b[0m\n\u001b[0;32m    431\u001b[0m     \u001b[1;31m#\u001b[0m\u001b[1;33m\u001b[0m\u001b[1;33m\u001b[0m\u001b[0m\n\u001b[1;32m--> 432\u001b[1;33m     \u001b[1;32mreturn\u001b[0m \u001b[0m_generic_ode_solve\u001b[0m\u001b[1;33m(\u001b[0m\u001b[0mr\u001b[0m\u001b[1;33m,\u001b[0m \u001b[0mrho0\u001b[0m\u001b[1;33m,\u001b[0m \u001b[0mtlist\u001b[0m\u001b[1;33m,\u001b[0m \u001b[0me_ops\u001b[0m\u001b[1;33m,\u001b[0m \u001b[0mopt\u001b[0m\u001b[1;33m,\u001b[0m \u001b[0mprogress_bar\u001b[0m\u001b[1;33m)\u001b[0m\u001b[1;33m\u001b[0m\u001b[0m\n\u001b[0m\u001b[0;32m    433\u001b[0m \u001b[1;33m\u001b[0m\u001b[0m\n\u001b[0;32m    434\u001b[0m \u001b[1;33m\u001b[0m\u001b[0m\n",
      "\u001b[1;32m/usr/lib/python2.7/dist-packages/qutip/mesolve.pyc\u001b[0m in \u001b[0;36m_generic_ode_solve\u001b[1;34m(r, rho0, tlist, e_ops, opt, progress_bar)\u001b[0m\n\u001b[0;32m    887\u001b[0m \u001b[1;33m\u001b[0m\u001b[0m\n\u001b[0;32m    888\u001b[0m         \u001b[1;32mif\u001b[0m \u001b[0mt_idx\u001b[0m \u001b[1;33m<\u001b[0m \u001b[0mn_tsteps\u001b[0m \u001b[1;33m-\u001b[0m \u001b[1;36m1\u001b[0m\u001b[1;33m:\u001b[0m\u001b[1;33m\u001b[0m\u001b[0m\n\u001b[1;32m--> 889\u001b[1;33m             \u001b[0mr\u001b[0m\u001b[1;33m.\u001b[0m\u001b[0mintegrate\u001b[0m\u001b[1;33m(\u001b[0m\u001b[0mr\u001b[0m\u001b[1;33m.\u001b[0m\u001b[0mt\u001b[0m \u001b[1;33m+\u001b[0m \u001b[0mdt\u001b[0m\u001b[1;33m[\u001b[0m\u001b[0mt_idx\u001b[0m\u001b[1;33m]\u001b[0m\u001b[1;33m)\u001b[0m\u001b[1;33m\u001b[0m\u001b[0m\n\u001b[0m\u001b[0;32m    890\u001b[0m \u001b[1;33m\u001b[0m\u001b[0m\n\u001b[0;32m    891\u001b[0m     \u001b[0mprogress_bar\u001b[0m\u001b[1;33m.\u001b[0m\u001b[0mfinished\u001b[0m\u001b[1;33m(\u001b[0m\u001b[1;33m)\u001b[0m\u001b[1;33m\u001b[0m\u001b[0m\n",
      "\u001b[1;32m/usr/local/lib/python2.7/dist-packages/scipy/integrate/_ode.pyc\u001b[0m in \u001b[0;36mintegrate\u001b[1;34m(self, t, step, relax)\u001b[0m\n\u001b[0;32m    406\u001b[0m             self._y, self.t = mth(self.f, self.jac or (lambda: None),\n\u001b[0;32m    407\u001b[0m                                 \u001b[0mself\u001b[0m\u001b[1;33m.\u001b[0m\u001b[0m_y\u001b[0m\u001b[1;33m,\u001b[0m \u001b[0mself\u001b[0m\u001b[1;33m.\u001b[0m\u001b[0mt\u001b[0m\u001b[1;33m,\u001b[0m \u001b[0mt\u001b[0m\u001b[1;33m,\u001b[0m\u001b[1;33m\u001b[0m\u001b[0m\n\u001b[1;32m--> 408\u001b[1;33m                                 self.f_params, self.jac_params)\n\u001b[0m\u001b[0;32m    409\u001b[0m         \u001b[1;32mexcept\u001b[0m \u001b[0mSystemError\u001b[0m\u001b[1;33m:\u001b[0m\u001b[1;33m\u001b[0m\u001b[0m\n\u001b[0;32m    410\u001b[0m             \u001b[1;31m# f2py issue with tuple returns, see ticket 1187.\u001b[0m\u001b[1;33m\u001b[0m\u001b[1;33m\u001b[0m\u001b[0m\n",
      "\u001b[1;32m/usr/local/lib/python2.7/dist-packages/scipy/integrate/_ode.pyc\u001b[0m in \u001b[0;36mrun\u001b[1;34m(self, f, jac, y0, t0, t1, f_params, jac_params)\u001b[0m\n\u001b[0;32m    863\u001b[0m         args = ((f, jac, y0, t0, t1) + tuple(self.call_args) +\n\u001b[0;32m    864\u001b[0m                 (f_params, jac_params))\n\u001b[1;32m--> 865\u001b[1;33m         \u001b[0my1\u001b[0m\u001b[1;33m,\u001b[0m \u001b[0mt\u001b[0m\u001b[1;33m,\u001b[0m \u001b[0mistate\u001b[0m \u001b[1;33m=\u001b[0m \u001b[0mself\u001b[0m\u001b[1;33m.\u001b[0m\u001b[0mrunner\u001b[0m\u001b[1;33m(\u001b[0m\u001b[1;33m*\u001b[0m\u001b[0margs\u001b[0m\u001b[1;33m)\u001b[0m\u001b[1;33m\u001b[0m\u001b[0m\n\u001b[0m\u001b[0;32m    866\u001b[0m         \u001b[1;32mif\u001b[0m \u001b[0mistate\u001b[0m \u001b[1;33m<\u001b[0m \u001b[1;36m0\u001b[0m\u001b[1;33m:\u001b[0m\u001b[1;33m\u001b[0m\u001b[0m\n\u001b[0;32m    867\u001b[0m             warnings.warn(self.__class__.__name__ + ': ' +\n",
      "\u001b[1;32m/usr/lib/python2.7/dist-packages/qutip/mesolve.pyc\u001b[0m in \u001b[0;36mdrho_list_td\u001b[1;34m(t, rho, L_list, args)\u001b[0m\n\u001b[0;32m    448\u001b[0m             \u001b[0mL\u001b[0m \u001b[1;33m=\u001b[0m \u001b[0mL\u001b[0m \u001b[1;33m+\u001b[0m \u001b[0mL_list\u001b[0m\u001b[1;33m[\u001b[0m\u001b[0mn\u001b[0m\u001b[1;33m]\u001b[0m\u001b[1;33m[\u001b[0m\u001b[1;36m0\u001b[0m\u001b[1;33m]\u001b[0m \u001b[1;33m*\u001b[0m \u001b[1;33m(\u001b[0m\u001b[0mL_list\u001b[0m\u001b[1;33m[\u001b[0m\u001b[0mn\u001b[0m\u001b[1;33m]\u001b[0m\u001b[1;33m[\u001b[0m\u001b[1;36m1\u001b[0m\u001b[1;33m]\u001b[0m\u001b[1;33m(\u001b[0m\u001b[0mt\u001b[0m\u001b[1;33m,\u001b[0m \u001b[0margs\u001b[0m\u001b[1;33m)\u001b[0m\u001b[1;33m)\u001b[0m \u001b[1;33m**\u001b[0m \u001b[1;36m2\u001b[0m\u001b[1;33m\u001b[0m\u001b[0m\n\u001b[0;32m    449\u001b[0m         \u001b[1;32melse\u001b[0m\u001b[1;33m:\u001b[0m\u001b[1;33m\u001b[0m\u001b[0m\n\u001b[1;32m--> 450\u001b[1;33m             \u001b[0mL\u001b[0m \u001b[1;33m=\u001b[0m \u001b[0mL\u001b[0m \u001b[1;33m+\u001b[0m \u001b[0mL_list\u001b[0m\u001b[1;33m[\u001b[0m\u001b[0mn\u001b[0m\u001b[1;33m]\u001b[0m\u001b[1;33m[\u001b[0m\u001b[1;36m0\u001b[0m\u001b[1;33m]\u001b[0m \u001b[1;33m*\u001b[0m \u001b[0mL_list\u001b[0m\u001b[1;33m[\u001b[0m\u001b[0mn\u001b[0m\u001b[1;33m]\u001b[0m\u001b[1;33m[\u001b[0m\u001b[1;36m1\u001b[0m\u001b[1;33m]\u001b[0m\u001b[1;33m(\u001b[0m\u001b[0mt\u001b[0m\u001b[1;33m,\u001b[0m \u001b[0margs\u001b[0m\u001b[1;33m)\u001b[0m\u001b[1;33m\u001b[0m\u001b[0m\n\u001b[0m\u001b[0;32m    451\u001b[0m \u001b[1;33m\u001b[0m\u001b[0m\n\u001b[0;32m    452\u001b[0m     \u001b[1;32mreturn\u001b[0m \u001b[0mL\u001b[0m \u001b[1;33m*\u001b[0m \u001b[0mrho\u001b[0m\u001b[1;33m\u001b[0m\u001b[0m\n",
      "\u001b[1;32m<ipython-input-11-048df33aee80>\u001b[0m in \u001b[0;36mHx_coeff\u001b[1;34m(t, args)\u001b[0m\n\u001b[0;32m     15\u001b[0m \u001b[1;31m# Get Hamiltonian pulse value at time t\u001b[0m\u001b[1;33m\u001b[0m\u001b[1;33m\u001b[0m\u001b[0m\n\u001b[0;32m     16\u001b[0m \u001b[1;32mdef\u001b[0m \u001b[0mHx_coeff\u001b[0m\u001b[1;33m(\u001b[0m\u001b[0mt\u001b[0m\u001b[1;33m,\u001b[0m\u001b[0margs\u001b[0m\u001b[1;33m=\u001b[0m\u001b[0mNone\u001b[0m\u001b[1;33m)\u001b[0m\u001b[1;33m:\u001b[0m\u001b[1;33m\u001b[0m\u001b[0m\n\u001b[1;32m---> 17\u001b[1;33m     \u001b[0mHx_t\u001b[0m \u001b[1;33m=\u001b[0m \u001b[0mHx_pulse\u001b[0m\u001b[1;33m.\u001b[0m\u001b[0mget_coeff\u001b[0m\u001b[1;33m(\u001b[0m\u001b[0mt\u001b[0m\u001b[1;33m)\u001b[0m\u001b[1;33m\u001b[0m\u001b[0m\n\u001b[0m\u001b[0;32m     18\u001b[0m     \u001b[1;32mreturn\u001b[0m \u001b[0mHx_t\u001b[0m\u001b[1;33m\u001b[0m\u001b[0m\n\u001b[0;32m     19\u001b[0m \u001b[1;33m\u001b[0m\u001b[0m\n",
      "\u001b[1;32m<ipython-input-10-c1d90ec16070>\u001b[0m in \u001b[0;36mget_coeff\u001b[1;34m(self, time)\u001b[0m\n\u001b[0;32m     23\u001b[0m     \u001b[1;32mdef\u001b[0m \u001b[0mget_coeff\u001b[0m\u001b[1;33m(\u001b[0m\u001b[0mself\u001b[0m\u001b[1;33m,\u001b[0m\u001b[0mtime\u001b[0m\u001b[1;33m)\u001b[0m\u001b[1;33m:\u001b[0m\u001b[1;33m\u001b[0m\u001b[0m\n\u001b[0;32m     24\u001b[0m         \u001b[0mindex\u001b[0m \u001b[1;33m=\u001b[0m \u001b[0mself\u001b[0m\u001b[1;33m.\u001b[0m\u001b[0mtime_to_index\u001b[0m\u001b[1;33m(\u001b[0m\u001b[0mtime\u001b[0m\u001b[1;33m)\u001b[0m\u001b[1;33m\u001b[0m\u001b[0m\n\u001b[1;32m---> 25\u001b[1;33m         \u001b[1;32mreturn\u001b[0m \u001b[0mself\u001b[0m\u001b[1;33m.\u001b[0m\u001b[0mpulse_coeff_array\u001b[0m\u001b[1;33m[\u001b[0m\u001b[0mindex\u001b[0m\u001b[1;33m]\u001b[0m\u001b[1;33m\u001b[0m\u001b[0m\n\u001b[0m\u001b[0;32m     26\u001b[0m \u001b[1;33m\u001b[0m\u001b[0m\n\u001b[0;32m     27\u001b[0m     \u001b[1;32mdef\u001b[0m \u001b[0mtime_to_index\u001b[0m\u001b[1;33m(\u001b[0m\u001b[0mself\u001b[0m\u001b[1;33m,\u001b[0m\u001b[0mtime\u001b[0m\u001b[1;33m)\u001b[0m\u001b[1;33m:\u001b[0m\u001b[1;33m\u001b[0m\u001b[0m\n",
      "\u001b[1;31mIndexError\u001b[0m: index 15689 is out of bounds for axis 0 with size 15689"
     ]
    },
    {
     "data": {
      "image/png": "[encoded data removed]",
      "text/plain": [
       "<matplotlib.figure.Figure at 0x7f3598bd23d0>"
      ]
     },
     "metadata": {},
     "output_type": "display_data"
    }
   ],
   "source": [
    "# Define pulses\n",
    "Hx_pulse = H_Pulse()\n",
    "Hy_pulse = H_Pulse()\n",
    "\n",
    "Hx_pulse.add_pulse(time=0,amp=0.03,freq=sys_para.ens[1]/(2*np.pi),length=20,phase=np.pi/2,ptype=\"gauss\")\n",
    "Hy_pulse.add_pulse(time=0,amp=0.03,freq=sys_para.ens[1]/(2*np.pi),length=20,phase=0,ptype=\"gauss\")\n",
    "\n",
    "fig, axes = plt.subplots(1, 1, figsize=(10,6))\n",
    "\n",
    "plt.plot(Hx_pulse.tlist,Hx_pulse.pulse_coeff_array)\n",
    "plt.plot(Hy_pulse.tlist,Hy_pulse.pulse_coeff_array)\n",
    "\n",
    "axes.set_title('Input Pulse')\n",
    "\n",
    "# Get Hamiltonian pulse value at time t\n",
    "def Hx_coeff(t,args=None):\n",
    "    Hx_t = Hx_pulse.get_coeff(t)\n",
    "    return Hx_t\n",
    "\n",
    "def Hy_coeff(t,args=None):\n",
    "    Hy_t = Hy_pulse.get_coeff(t)\n",
    "    return Hy_t\n",
    "\n",
    "# Hamiltonian\n",
    "Hx = Qobj(sys_para.Hx_op)\n",
    "Hy = Qobj(sys_para.Hy_op)\n",
    "H_t = [H0, [Hx,Hx_coeff], [Hy,Hy_coeff]]\n",
    "\n",
    "# State operators, used for output\n",
    "g_array= np.zeros(sys_para.state_num)\n",
    "g_array[0] = 1\n",
    "g_matrix = Qobj(np.diag(g_array))\n",
    "\n",
    "e_array= np.zeros(sys_para.state_num)\n",
    "e_array[1] = 1\n",
    "e_matrix = Qobj(np.diag(e_array))\n",
    "\n",
    "f_array= np.zeros(sys_para.state_num)\n",
    "f_array[2] = 1\n",
    "f_matrix = Qobj(np.diag(f_array))\n",
    "\n",
    "h_array= np.zeros(sys_para.state_num)\n",
    "h_array[3] = 1\n",
    "h_matrix = Qobj(np.diag(h_array))\n",
    "\n",
    "g = g_matrix\n",
    "e = e_matrix\n",
    "f = f_matrix\n",
    "h = h_matrix\n",
    "\n",
    "# Run Simulation\n",
    "psi0 = g # start in ground cavity and excited transmon\n",
    "\n",
    "output = mesolve(H_t, psi0, sys_para.tlist, [], [g, e, f, h],progress_bar=True)\n",
    "\n",
    "# Plotting\n",
    "g_out = output.expect[0]\n",
    "e_out= output.expect[1]\n",
    "f_out = output.expect[2]\n",
    "h_out = output.expect[3]\n",
    "\n",
    "fig, axes = plt.subplots(1, 1, figsize=(10,6))\n",
    "\n",
    "axes.plot(sys_para.tlist, g_out, label=\"g\")\n",
    "axes.plot(sys_para.tlist, e_out, label=\"e\")\n",
    "axes.plot(sys_para.tlist, f_out, label=\"f\")\n",
    "axes.plot(sys_para.tlist, h_out, label=\"h\")\n",
    "axes.legend(loc=0)\n",
    "axes.set_xlabel('Time')\n",
    "axes.set_ylabel('Occupation probability')\n",
    "axes.set_title('Rabi Oscillation')\n"
   ]
  },
  {
   "cell_type": "code",
   "execution_count": null,
   "metadata": {
    "collapsed": true
   },
   "outputs": [],
   "source": []
  },
  {
   "cell_type": "code",
   "execution_count": null,
   "metadata": {
    "collapsed": true
   },
   "outputs": [],
   "source": []
  }
 ],
 "metadata": {
  "kernelspec": {
   "display_name": "Python 2",
   "language": "python",
   "name": "python2"
  },
  "language_info": {
   "codemirror_mode": {
    "name": "ipython",
    "version": 2
   },
   "file_extension": ".py",
   "mimetype": "text/x-python",
   "name": "python",
   "nbconvert_exporter": "python",
   "pygments_lexer": "ipython2",
   "version": "2.7.6"
  }
 },
 "nbformat": 4,
 "nbformat_minor": 0
}
