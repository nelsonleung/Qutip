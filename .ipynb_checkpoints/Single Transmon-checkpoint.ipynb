{
 "cells": [
  {
   "cell_type": "code",
   "execution_count": 29,
   "metadata": {
    "collapsed": true
   },
   "outputs": [],
   "source": [
    "%matplotlib inline\n",
    "import matplotlib.pyplot as plt\n",
    "import numpy as np\n",
    "from IPython.display import clear_output"
   ]
  },
  {
   "cell_type": "code",
   "execution_count": 2,
   "metadata": {
    "collapsed": false
   },
   "outputs": [],
   "source": [
    "from qutip import *"
   ]
  },
  {
   "cell_type": "markdown",
   "metadata": {},
   "source": [
    "### Introduction\n",
    "\n",
    "The Hamiltonian for a Transmon qubit is\n",
    "\n",
    "$\\displaystyle H = \\sum_n 4 E_C (n_g - n)^2 \\left|n\\right\\rangle\\left\\langle n\\right| - E_{J\\Sigma} [\\cos(\\pi \\Phi/\\Phi_0)\\cos(\\theta) + d \\sin(\\pi \\Phi/\\Phi_0)\\sin(\\theta)]$\n",
    "\n",
    "$\\displaystyle H = \\sum_n 4 E_C (n_g - n)^2 \\left|n\\right\\rangle\\left\\langle n\\right| - E_{J\\Sigma}[\\cos(\\pi \\Phi/\\Phi_0)\\frac{1}{2}\\sum_n\\left(\\left|n+1\\right\\rangle\\left\\langle n\\right| + \\left|n\\right\\rangle\\left\\langle n+1\\right| \\right)+i d \\sin(\\pi \\Phi/\\Phi_0)\\frac{1}{2}\\sum_n\\left(\\left|n+1\\right\\rangle\\left\\langle n\\right| - \\left|n\\right\\rangle\\left\\langle n+1\\right| \\right)]$\n",
    "\n",
    "where $E_C$ is the charge energy, $E_J$ is the Josephson energy, and $\\left| n\\right\\rangle$ is the charge state with $n$ Cooper-pairs on the island that makes up the charge qubit."
   ]
  },
  {
   "cell_type": "markdown",
   "metadata": {},
   "source": [
    "### Qubit parameters"
   ]
  },
  {
   "cell_type": "code",
   "execution_count": 3,
   "metadata": {
    "collapsed": false
   },
   "outputs": [],
   "source": [
    "class SystemParameters:\n",
    "    \n",
    "    def __init__(self):\n",
    "        # Input variable\n",
    "        \n",
    "        self.init_system()\n",
    "        self.init_operators()\n",
    "        self.init_pulse_operator()\n",
    "        \n",
    "    def init_system(self):\n",
    "        self.initial_pulse = True\n",
    "        self.state_num = 3\n",
    "        self.alpha = 0.224574\n",
    "        self.freq_ge = 3.9225 #GHz\n",
    "        self.ens = np.array([ 2*np.pi*ii*(self.freq_ge - 0.5*(ii-1)*self.alpha) for ii in np.arange(self.state_num)])\n",
    "        self.pts_per_period = 20\n",
    "        self.dt = (1./self.freq_ge)/self.pts_per_period\n",
    "        self.total_time=200.\n",
    "        self.steps = int(self.total_time/self.dt)+1\n",
    "        self.tlist = np.linspace(0,self.total_time,self.steps)\n",
    "        \n",
    "    def update_total_time(self,total_time):\n",
    "        self.total_time=total_time\n",
    "        self.steps = int(self.total_time/self.dt)+1\n",
    "        self.tlist = np.linspace(0,self.total_time,self.steps)\n",
    "\n",
    "    def init_operators(self):\n",
    "        # Create operator matrix in numpy array\n",
    "        \n",
    "        \n",
    "        self.drive_freq = self.ens[1]\n",
    "        \n",
    "        x   = np.diag(np.sqrt(np.arange(1,self.state_num)),1)+np.diag(np.sqrt(np.arange(1,self.state_num)),-1)\n",
    "        y   = (0+1j) *(np.diag(np.sqrt(np.arange(1,self.state_num)),1)-np.diag(np.sqrt(np.arange(1,self.state_num)),-1))\n",
    "        \n",
    "        self.ops = [x,y]\n",
    "        \n",
    "        self.Hx_op = x\n",
    "        self.Hy_op = y\n",
    "        \n",
    "        self.ops_len = len(self.ops)\n",
    "       \n",
    "    def state_operators(self):\n",
    "        # State operators, used for output\n",
    "        g_array= np.zeros(sys_para.state_num)\n",
    "        g_array[0] = 1\n",
    "        g_matrix = Qobj(np.diag(g_array))\n",
    "\n",
    "        e_array= np.zeros(sys_para.state_num)\n",
    "        e_array[1] = 1\n",
    "        e_matrix = Qobj(np.diag(e_array))\n",
    "\n",
    "        f_array= np.zeros(sys_para.state_num)\n",
    "        f_array[2] = 1\n",
    "        f_matrix = Qobj(np.diag(f_array))\n",
    "\n",
    "\n",
    "        self.gs = g_matrix\n",
    "        self.es = e_matrix\n",
    "        self.fs = f_matrix\n",
    "\n",
    "        return [self.gs,self.es,self.fs]\n",
    "    \n",
    "    \n",
    "    def c_operators(self):\n",
    "        # qubit coherence parameters\n",
    "\n",
    "        T1_ge = 18000.0\n",
    "        T1_ef = 7000.0\n",
    "        T2_ge = 2000.0\n",
    "        T2_ef = 2000.0\n",
    "        T_ephi = 1/(1/T2_ge -1/(2*T1_ge))\n",
    "        T_fphi = 1/(1/T2_ef -1/(2*T1_ef))\n",
    "\n",
    "        c_ops = (1/T1_ge)*lindblad_dissipator(self.gs*self.es.dag()) +   (1/T1_ef)*lindblad_dissipator(self.es*self.fs.dag()) +\\\n",
    "        (2/(T_ephi))*lindblad_dissipator(self.es*self.es.dag()) + (2/(T_fphi))*lindblad_dissipator(self.fs*self.fs.dag()) \n",
    "        \n",
    "        return c_ops"
   ]
  },
  {
   "cell_type": "code",
   "execution_count": 4,
   "metadata": {
    "collapsed": false
   },
   "outputs": [],
   "source": [
    "class H_Pulse:\n",
    "    def __init__(self, sys_para):\n",
    "        self.sys_para = sys_para\n",
    "        self.tlist = self.sys_para.tlist\n",
    "        self.pulse_coeff_array = np.zeros(len(self.tlist))\n",
    "        \n",
    "    def gauss_span_length(self,length):\n",
    "        return 4*length\n",
    "\n",
    "    def square_span_length(self,length):\n",
    "        ramp_sigma = 10\n",
    "        return length + 4*ramp_sigma\n",
    "\n",
    "    def gauss(self,tlist,time,amp,freq,length,phase):\n",
    "        span_length = self.gauss_span_length(length)\n",
    "        t0 = time+0.5*span_length\n",
    "        return amp*np.exp(-(tlist-t0)**2/(2*length**2)) * (tlist>time) * (tlist< (time+span_length)) *\\\n",
    "        np.sin(2*np.pi*freq*tlist + phase)\n",
    "\n",
    "    def add_pulse(self,time,amp,freq,length,phase,ptype):\n",
    "        self.pulse_coeff_array += self.gauss(self.tlist,time,amp,freq,length,phase)\n",
    "        return time + self.gauss_span_length(length)\n",
    "        \n",
    "    def get_coeff(self,time):\n",
    "        index = self.time_to_index(time)\n",
    "        return self.pulse_coeff_array[index]\n",
    "    \n",
    "    def time_to_index(self,time):\n",
    "        return int(time/self.sys_para.dt - 1)"
   ]
  },
  {
   "cell_type": "code",
   "execution_count": 9,
   "metadata": {
    "collapsed": true
   },
   "outputs": [],
   "source": [
    "def plot_result(output):\n",
    "    # Plotting\n",
    "    g_out = output.expect[0]\n",
    "    e_out= output.expect[1]\n",
    "    f_out = output.expect[2]\n",
    "\n",
    "    fig, axes = plt.subplots(1, 1, figsize=(10,6))\n",
    "\n",
    "    axes.plot(sys_para.tlist, g_out, label=\"g\")\n",
    "    axes.plot(sys_para.tlist, e_out, label=\"e\")\n",
    "    axes.plot(sys_para.tlist, f_out, label=\"f\")\n",
    "    axes.legend(loc=0)\n",
    "    axes.set_xlabel('Time')\n",
    "    axes.set_ylabel('Occupation probability')\n",
    "    axes.set_title('Rabi Oscillation')"
   ]
  },
  {
   "cell_type": "code",
   "execution_count": 10,
   "metadata": {
    "collapsed": true
   },
   "outputs": [],
   "source": [
    "def plot_sweep_result(p_g,p_e,tlist,sweep):\n",
    "    plt.figure(figsize=(20,8))\n",
    "\n",
    "    plt.subplot(121, title=\"g\")\n",
    "\n",
    "    plt.pcolormesh(tlist,sweep, np.array(p_g))\n",
    "    plt.xlabel('Time')\n",
    "\n",
    "    plt.subplot(122, title=\"e\")\n",
    "\n",
    "    plt.pcolormesh(tlist,sweep, np.array(p_e))\n",
    "    plt.xlabel('Time')"
   ]
  },
  {
   "cell_type": "code",
   "execution_count": 31,
   "metadata": {
    "collapsed": false
   },
   "outputs": [],
   "source": [
    "def Rabi(sys_para, sweep = False, amp = 0.0):\n",
    "    # Define pulses\n",
    "    Hx_pulse = H_Pulse(sys_para)\n",
    "    Hy_pulse = H_Pulse(sys_para)\n",
    "\n",
    "    target_time = 24.2\n",
    "    \n",
    "    if not sweep:\n",
    "        Hx_pulse.add_pulse(time=0,amp=0.055,freq=sys_para.ens[1]/(2*np.pi),length=target_time,phase=np.pi/2,ptype=\"gauss\")\n",
    "        Hy_pulse.add_pulse(time=0,amp=0.00,freq=sys_para.ens[1]/(2*np.pi),length=target_time,phase=0,ptype=\"gauss\")\n",
    "    else:\n",
    "        Hx_pulse.add_pulse(time=0,amp=amp,freq=sys_para.ens[1]/(2*np.pi),length=target_time,phase=np.pi/2,ptype=\"gauss\")\n",
    "        Hy_pulse.add_pulse(time=0,amp=0.00,freq=sys_para.ens[1]/(2*np.pi),length=target_time,phase=0,ptype=\"gauss\")\n",
    "        \n",
    "        \n",
    "    if not sweep:\n",
    "        fig, axes = plt.subplots(1, 1, figsize=(10,6))\n",
    "        plt.plot(sys_para.tlist,Hx_pulse.pulse_coeff_array)\n",
    "        plt.plot(sys_para.tlist,Hy_pulse.pulse_coeff_array)\n",
    "        axes.set_title('Input Pulse')\n",
    "\n",
    "    # Get Hamiltonian pulse value at time t\n",
    "    def Hx_coeff(t,args=None):\n",
    "        Hx_t = Hx_pulse.get_coeff(t)\n",
    "        return Hx_t\n",
    "\n",
    "    def Hy_coeff(t,args=None):\n",
    "        Hy_t = Hy_pulse.get_coeff(t)\n",
    "        return Hy_t\n",
    "\n",
    "    # Hamiltonian\n",
    "    H0 = Qobj(np.diag(sys_para.ens))\n",
    "    Hx = Qobj(sys_para.Hx_op)\n",
    "    Hy = Qobj(sys_para.Hy_op)\n",
    "    H_t = [H0, [Hx,Hx_coeff], [Hy,Hy_coeff]]\n",
    "    \n",
    "    state_ops = sys_para.state_operators()\n",
    "    c_ops = sys_para.c_operators()\n",
    "\n",
    "    # Run Simulation\n",
    "    psi0 = state_ops[0] # start in ground cavity and excited transmon\n",
    "    output = mesolve(H_t, psi0, sys_para.tlist, c_ops, state_ops ,progress_bar=True)\n",
    "    clear_output()\n",
    "\n",
    "    if not sweep:\n",
    "        plot_result(output)\n",
    "    \n",
    "    return output"
   ]
  },
  {
   "cell_type": "code",
   "execution_count": 32,
   "metadata": {
    "collapsed": false
   },
   "outputs": [
    {
     "data": {
      "text/plain": [
       "Result object with mesolve data.\n",
       "--------------------------------\n",
       "expect = True\n",
       "num_expect = 3, num_collapse = 0"
      ]
     },
     "execution_count": 32,
     "metadata": {},
     "output_type": "execute_result"
    },
    {
     "data": {
      "image/png": "[encoded data removed]",
      "text/plain": [
       "<matplotlib.figure.Figure at 0x7fde616e4950>"
      ]
     },
     "metadata": {},
     "output_type": "display_data"
    },
    {
     "data": {
      "image/png": "[encoded data removed]",
      "text/plain": [
       "<matplotlib.figure.Figure at 0x7fde61587a10>"
      ]
     },
     "metadata": {},
     "output_type": "display_data"
    }
   ],
   "source": [
    "sys_para = SystemParameters()\n",
    "sys_para.update_total_time(100)\n",
    "Rabi(sys_para)"
   ]
  },
  {
   "cell_type": "code",
   "execution_count": 24,
   "metadata": {
    "collapsed": false
   },
   "outputs": [],
   "source": [
    "def Rabi_sweep(sys_para):\n",
    "    p_g = []\n",
    "    p_e = []\n",
    "    amp_list = np.linspace(0.050,0.0.060,10)\n",
    "    for amp in amp_list:\n",
    "        print \"Simulating sweep parameter: \" + str(amp)\n",
    "        output = Rabi(sys_para, sweep = True, amp=amp)\n",
    "        p_g.append(output.expect[0])\n",
    "        p_e.append(output.expect[1])\n",
    "        clear_output()\n",
    "        \n",
    "    plot_sweep_result(p_g,p_e,sys_para.tlist,amp_list)"
   ]
  },
  {
   "cell_type": "code",
   "execution_count": 25,
   "metadata": {
    "collapsed": false
   },
   "outputs": [
    {
     "name": "stdout",
     "output_type": "stream",
     "text": [
      "Simulating sweep parameter: 0.105\n",
      "Simulating sweep parameter: 0.106111111111\n",
      "Simulating sweep parameter: 0.107222222222\n",
      "Simulating sweep parameter: 0.108333333333\n",
      "Simulating sweep parameter: 0.109444444444\n",
      "Simulating sweep parameter: 0.110555555556\n",
      "Simulating sweep parameter: 0.111666666667\n",
      "Simulating sweep parameter: 0.112777777778\n",
      "Simulating sweep parameter: 0.113888888889\n",
      "Simulating sweep parameter: 0.115\n"
     ]
    },
    {
     "name": "stderr",
     "output_type": "stream",
     "text": [
      "/usr/lib/pymodules/python2.7/matplotlib/collections.py:548: FutureWarning: elementwise comparison failed; returning scalar instead, but in the future will perform elementwise comparison\n",
      "  if self._edgecolors == 'face':\n"
     ]
    },
    {
     "data": {
      "image/png": "[encoded data removed]",
      "text/plain": [
       "<matplotlib.figure.Figure at 0x7fde61722f90>"
      ]
     },
     "metadata": {},
     "output_type": "display_data"
    }
   ],
   "source": [
    "sys_para = SystemParameters()\n",
    "sys_para.update_total_time(50)\n",
    "Rabi_sweep(sys_para)"
   ]
  },
  {
   "cell_type": "code",
   "execution_count": null,
   "metadata": {
    "collapsed": true
   },
   "outputs": [],
   "source": []
  }
 ],
 "metadata": {
  "kernelspec": {
   "display_name": "Python 2",
   "language": "python",
   "name": "python2"
  },
  "language_info": {
   "codemirror_mode": {
    "name": "ipython",
    "version": 2
   },
   "file_extension": ".py",
   "mimetype": "text/x-python",
   "name": "python",
   "nbconvert_exporter": "python",
   "pygments_lexer": "ipython2",
   "version": "2.7.6"
  }
 },
 "nbformat": 4,
 "nbformat_minor": 0
}
